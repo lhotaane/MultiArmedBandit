{
 "cells": [
  {
   "cell_type": "markdown",
   "metadata": {},
   "source": [
    "# HEUR \n",
    "# K-armed bandit problem: theory "
   ]
  },
  {
   "cell_type": "markdown",
   "metadata": {},
   "source": [
    "## Introduction \n",
    "\n",
    "In probability theory and machine learning, multi-armed bandit problem reffers to a model which can be seen as a set of real distributions $\\{F_1,\\dots,F_K\\}$, each distribution being associated with the rewards delivered by one of the $K\\in\\N^+$ levers. Let $\\mu_1,\\dots,\\mu_K$ be the mean values associated with these reward distributions. The gambler iteratively plays one lever per round and observes the associated reward. The objective is to maximize the sum of the collected rewards. Several strategies or algorithms have been proposed as a solution to this problem in the last two decades. In this project, we will focus on the comparison of basic strategies in order to find (heuristically) best option."
   ]
  },
  {
   "cell_type": "markdown",
   "metadata": {},
   "source": [
    "We define\n",
    "* $\\mathtt{episode}$ as the number of games,\n",
    "* horizon $\\mathtt{iters}$ as the number of rounds to be played in each game,\n",
    "* maximum mean reward as $\\mu^* = \\mathtt{max}\\{\\mu_1,\\mu_2\\,... \\mu_K\\},$\n",
    "* regret $\\rho$ after $T$ rounds played as $\\rho(T) = T\\mu^* - \\sum_{t=1}^{T}r_t,$ where $r_t$ is the reward in round $t$ ($\\rho$ is also a random variable),\n",
    "* expected regret as $\\mathbb{E}[\\rho(T)]$,\n",
    "* letter $\\mathtt{k}$ for the levers (arms)."
   ]
  },
  {
   "cell_type": "markdown",
   "metadata": {},
   "source": [
    "\"One way to approach this is to select each one in turn and keep track of how much you received, then keep going back to the one that paid out the most. This is possible, but each bandit has an underlying probability distribution associated with it, meaning that you may need more samples before finding the right one. But, each pull you spend trying to figure out the best bandit to play takes you away from maximizing your reward. This basic balancing act is known as the explore-exploit dilemma.\" - *Christian Hubbs, TowardDataScience*"
   ]
  },
  {
   "cell_type": "code",
   "execution_count": 1,
   "metadata": {},
   "outputs": [
    {
     "data": {
      "text/html": [
       "<video src=\"multi_armed_bandit.webm\" controls  width=\"700\" >\n",
       "      Your browser does not support the <code>video</code> element.\n",
       "    </video>"
      ],
      "text/plain": [
       "<IPython.core.display.Video object>"
      ]
     },
     "execution_count": 1,
     "metadata": {},
     "output_type": "execute_result"
    }
   ],
   "source": [
    "from IPython.display import Video\n",
    "Video(\"multi_armed_bandit.webm\", width=700)"
   ]
  },
  {
   "cell_type": "code",
   "execution_count": 1,
   "metadata": {},
   "outputs": [],
   "source": [
    "import numpy as np \n",
    "import matplotlib.pyplot as plt \n",
    "import pandas as pd "
   ]
  },
  {
   "cell_type": "markdown",
   "metadata": {},
   "source": [
    "## Startegies"
   ]
  },
  {
   "cell_type": "markdown",
   "metadata": {},
   "source": [
    "For the purpose of following vizualisation, lets set:"
   ]
  },
  {
   "cell_type": "code",
   "execution_count": 3,
   "metadata": {},
   "outputs": [],
   "source": [
    "# Number of arms\n",
    "k = 10\n",
    "# Number of rounds to be played within each game\n",
    "iters = 1_000\n",
    "# Number of games to be played\n",
    "episodes = 1_000\n",
    "# Mean values of arms ('random', 'sequence', 'sequence2', list, array)\n",
    "mu_input = 'sequence'"
   ]
  },
  {
   "cell_type": "markdown",
   "metadata": {},
   "source": [
    "### $\\varepsilon$-first strategy"
   ]
  },
  {
   "cell_type": "code",
   "execution_count": 4,
   "metadata": {},
   "outputs": [],
   "source": [
    "from bandits import eps_first_bandit"
   ]
  },
  {
   "cell_type": "markdown",
   "metadata": {},
   "source": [
    "Before properly introducing the $\\epsilon$-first strategy, lets talk about the exploration-explotation dilemma. This dilemma defines a problem, which is trying to optimize the balance between the (random) exploring part and the part, in which is used the knowledge obtained during the experiment.  "
   ]
  },
  {
   "cell_type": "code",
   "execution_count": 5,
   "metadata": {},
   "outputs": [],
   "source": [
    "# Choose strategies\n",
    "eps0=0\n",
    "eps1=0.05\n",
    "eps2=0.10\n",
    "eps3=0.20 "
   ]
  },
  {
   "cell_type": "code",
   "execution_count": 6,
   "metadata": {},
   "outputs": [],
   "source": [
    "# Initialization\n",
    "eps_0_rewards = np.zeros(iters)\n",
    "eps_1_rewards = np.zeros(iters)\n",
    "eps_2_rewards = np.zeros(iters)\n",
    "eps_3_rewards = np.zeros(iters)\n",
    "eps_0_selection = np.zeros(k)\n",
    "eps_1_selection = np.zeros(k)\n",
    "eps_2_selection = np.zeros(k)\n",
    "eps_3_selection = np.zeros(k)\n",
    "eps_0_rewards_cum = np.zeros(iters)\n",
    "eps_1_rewards_cum = np.zeros(iters)\n",
    "eps_2_rewards_cum = np.zeros(iters)\n",
    "eps_3_rewards_cum = np.zeros(iters)\n",
    "\n",
    "# Run experiments\n",
    "for i in range(episodes):\n",
    "    # Initialize bandits\n",
    "    eps_0 = eps_first_bandit(k, eps0, iters, mu=mu_input)\n",
    "    eps_1 = eps_first_bandit(k, eps1, iters, eps_0.mu.copy())\n",
    "    eps_2 = eps_first_bandit(k, eps2, iters, eps_0.mu.copy())\n",
    "    eps_3 = eps_first_bandit(k, eps3, iters, eps_0.mu.copy())\n",
    "    \n",
    "    # Run experiments\n",
    "    eps_0.run()\n",
    "    eps_1.run()\n",
    "    eps_2.run()\n",
    "    eps_3.run()\n",
    "    \n",
    "    # Update long-term averages\n",
    "    eps_0_rewards = eps_0_rewards + (\n",
    "        eps_0.reward - eps_0_rewards) / (i + 1)\n",
    "    eps_1_rewards = eps_1_rewards + (\n",
    "        eps_1.reward - eps_1_rewards) / (i + 1)\n",
    "    eps_2_rewards = eps_2_rewards + (\n",
    "        eps_2.reward - eps_2_rewards) / (i + 1)\n",
    "    eps_3_rewards = eps_3_rewards + (\n",
    "        eps_3.reward - eps_3_rewards) / (i + 1)\n",
    "\n",
    "    # Average actions per episode\n",
    "    eps_0_selection = eps_0_selection + (\n",
    "        eps_0.k_n - eps_0_selection) / (i + 1)\n",
    "    eps_1_selection = eps_1_selection + (\n",
    "        eps_1.k_n - eps_1_selection) / (i + 1)\n",
    "    eps_2_selection = eps_2_selection + (\n",
    "        eps_2.k_n - eps_2_selection) / (i + 1)\n",
    "    eps_3_selection = eps_3_selection + (\n",
    "        eps_3.k_n - eps_3_selection) / (i + 1)"
   ]
  },
  {
   "cell_type": "code",
   "execution_count": 7,
   "metadata": {},
   "outputs": [
    {
     "data": {
      "image/png": "[encoded data removed]",
      "text/plain": [
       "<Figure size 720x576 with 1 Axes>"
      ]
     },
     "metadata": {
      "needs_background": "light"
     },
     "output_type": "display_data"
    },
    {
     "data": {
      "image/png": "[encoded data removed]",
      "text/plain": [
       "<Figure size 720x576 with 1 Axes>"
      ]
     },
     "metadata": {
      "needs_background": "light"
     },
     "output_type": "display_data"
    },
    {
     "name": "stdout",
     "output_type": "stream",
     "text": [
      "Percentage of actions selected:\n"
     ]
    },
    {
     "data": {
      "text/html": [
       "<div>\n",
       "<style scoped>\n",
       "    .dataframe tbody tr th:only-of-type {\n",
       "        vertical-align: middle;\n",
       "    }\n",
       "\n",
       "    .dataframe tbody tr th {\n",
       "        vertical-align: top;\n",
       "    }\n",
       "\n",
       "    .dataframe thead th {\n",
       "        text-align: right;\n",
       "    }\n",
       "</style>\n",
       "<table border=\"1\" class=\"dataframe\">\n",
       "  <thead>\n",
       "    <tr style=\"text-align: right;\">\n",
       "      <th></th>\n",
       "      <th>a = 0</th>\n",
       "      <th>a = 1</th>\n",
       "      <th>a = 2</th>\n",
       "      <th>a = 3</th>\n",
       "      <th>a = 4</th>\n",
       "      <th>a = 5</th>\n",
       "      <th>a = 6</th>\n",
       "      <th>a = 7</th>\n",
       "      <th>a = 8</th>\n",
       "      <th>a = 9</th>\n",
       "    </tr>\n",
       "  </thead>\n",
       "  <tbody>\n",
       "    <tr>\n",
       "      <th>eps=0</th>\n",
       "      <td>0.4367</td>\n",
       "      <td>16.9393</td>\n",
       "      <td>15.9240</td>\n",
       "      <td>8.6000</td>\n",
       "      <td>10.6000</td>\n",
       "      <td>9.4000</td>\n",
       "      <td>9.9000</td>\n",
       "      <td>10.4000</td>\n",
       "      <td>8.3000</td>\n",
       "      <td>9.5000</td>\n",
       "    </tr>\n",
       "    <tr>\n",
       "      <th>eps=0.05</th>\n",
       "      <td>0.5188</td>\n",
       "      <td>0.5089</td>\n",
       "      <td>0.5001</td>\n",
       "      <td>0.5025</td>\n",
       "      <td>0.5146</td>\n",
       "      <td>0.5082</td>\n",
       "      <td>0.5120</td>\n",
       "      <td>0.5009</td>\n",
       "      <td>1.9028</td>\n",
       "      <td>94.0312</td>\n",
       "    </tr>\n",
       "    <tr>\n",
       "      <th>eps=0.1</th>\n",
       "      <td>1.0168</td>\n",
       "      <td>1.0156</td>\n",
       "      <td>1.0110</td>\n",
       "      <td>1.0015</td>\n",
       "      <td>1.0037</td>\n",
       "      <td>1.0176</td>\n",
       "      <td>1.0039</td>\n",
       "      <td>0.9977</td>\n",
       "      <td>1.1081</td>\n",
       "      <td>90.8241</td>\n",
       "    </tr>\n",
       "    <tr>\n",
       "      <th>eps=0.2</th>\n",
       "      <td>1.9852</td>\n",
       "      <td>1.9921</td>\n",
       "      <td>2.0341</td>\n",
       "      <td>2.0235</td>\n",
       "      <td>2.0192</td>\n",
       "      <td>2.0014</td>\n",
       "      <td>2.0058</td>\n",
       "      <td>2.0148</td>\n",
       "      <td>2.0287</td>\n",
       "      <td>81.8952</td>\n",
       "    </tr>\n",
       "  </tbody>\n",
       "</table>\n",
       "</div>"
      ],
      "text/plain": [
       "           a = 0    a = 1    a = 2   a = 3    a = 4   a = 5   a = 6    a = 7  \\\n",
       "eps=0     0.4367  16.9393  15.9240  8.6000  10.6000  9.4000  9.9000  10.4000   \n",
       "eps=0.05  0.5188   0.5089   0.5001  0.5025   0.5146  0.5082  0.5120   0.5009   \n",
       "eps=0.1   1.0168   1.0156   1.0110  1.0015   1.0037  1.0176  1.0039   0.9977   \n",
       "eps=0.2   1.9852   1.9921   2.0341  2.0235   2.0192  2.0014  2.0058   2.0148   \n",
       "\n",
       "           a = 8    a = 9  \n",
       "eps=0     8.3000   9.5000  \n",
       "eps=0.05  1.9028  94.0312  \n",
       "eps=0.1   1.1081  90.8241  \n",
       "eps=0.2   2.0287  81.8952  "
      ]
     },
     "execution_count": 7,
     "metadata": {},
     "output_type": "execute_result"
    }
   ],
   "source": [
    "# Plot average rewards    \n",
    "plt.figure(figsize=(10,8))\n",
    "plt.plot(eps_0_rewards, label=\"$\\epsilon=$\"+str(eps0))\n",
    "plt.plot(eps_1_rewards, label=\"$\\epsilon=$\"+str(eps1))\n",
    "plt.plot(eps_2_rewards, label=\"$\\epsilon=$\"+str(eps2))\n",
    "plt.plot(eps_3_rewards, label=\"$\\epsilon=$\"+str(eps3))\n",
    "for i in range(k):\n",
    "    plt.hlines(eps_0.mu[i], xmin=0,\n",
    "              xmax=iters, alpha=0.05,\n",
    "              linestyle=\"--\")\n",
    "plt.legend(bbox_to_anchor=(1.2, 0.5))\n",
    "plt.xlabel(\"Iterations\")\n",
    "plt.ylabel(\"Average Reward\")\n",
    "plt.title(\"Average $\\epsilon$-first Rewards after \" + \n",
    "     str(episodes) + \" Episodes\")\n",
    "plt.show()\n",
    "\n",
    "# Counts of actions\n",
    "bins = np.linspace(0, k-1, k)\n",
    "\n",
    "plt.figure(figsize=(10,8))\n",
    "plt.bar(bins, eps_0_selection, \n",
    "        width = 0.25, color='b', \n",
    "        label=\"$\\epsilon=$\"+str(eps0))\n",
    "plt.bar(bins+0.25, eps_1_selection,\n",
    "        width=0.25, color='g', \n",
    "        label=\"$\\epsilon=$\"+str(eps1))\n",
    "plt.bar(bins+0.50, eps_2_selection, \n",
    "        width=0.25, color='r',\n",
    "        label=\"$\\epsilon=$\"+str(eps2))\n",
    "plt.bar(bins+0.75, eps_3_selection, \n",
    "        width=0.25, color='y',\n",
    "        label=\"$\\epsilon=$\"+str(eps3))\n",
    "plt.legend(bbox_to_anchor=(1.2, 0.5))\n",
    "plt.xlim([0,k])\n",
    "plt.title(\"Actions Selected by Each Algorithm\")\n",
    "plt.xlabel(\"Action\")\n",
    "plt.ylabel(\"Number of Actions Taken\")\n",
    "plt.show()\n",
    "\n",
    "opt_per = np.array([eps_0_selection, eps_1_selection,\n",
    "                   eps_2_selection, eps_3_selection]) / iters * 100\n",
    "df = pd.DataFrame(opt_per, index=['eps='+str(eps0), \n",
    "    'eps='+str(eps1), 'eps='+str(eps2), 'eps='+str(eps3)],\n",
    "                 columns=[\"a = \" + str(x) for x in range(0, k)])\n",
    "print(\"Percentage of actions selected:\")\n",
    "df"
   ]
  },
  {
   "cell_type": "markdown",
   "metadata": {},
   "source": [
    "### $\\varepsilon$-greedy strategy"
   ]
  },
  {
   "cell_type": "code",
   "execution_count": 8,
   "metadata": {},
   "outputs": [],
   "source": [
    "from bandits import eps_greedy_bandit"
   ]
  },
  {
   "cell_type": "markdown",
   "metadata": {},
   "source": [
    "The $\\varepsilon$-greedy strategy is one of the most basic option for dealing with multi armed bandit problem and is widely used because of its simplicity. It is based on finding the balance between exploration and exploitation action within the algorithm. At each round the algorithm selects\n",
    "the arm with the highest empirical mean with probability $1 − \\varepsilon$, and selects a random arm with probability $\\varepsilon$. In other word, the probability $p_i$ of choosing the $i$-th arm in the next round $t+1$ is $$p_i(t+1)=\\begin{cases}&1-\\varepsilon + \\frac{\\varepsilon}{k}\\quad\\text{    if }i=\\text{argmax}_{j}\\hat{\\mu_j}(t),\\\\&\\frac{\\varepsilon}{k}\\quad\\text{otherwise},\\end{cases}$$\n",
    "where $k$ is the number of arms and $\\hat{\\mu_j}(t)$ is the empirical mean of $j$-th arm after $t$ turns.\n",
    "\n",
    "Choosing $\\varepsilon=0$ leads to an 0- greedy algorithm, in which is in the first round randomly selected an arm that is being pulled for the rest of the game. "
   ]
  },
  {
   "cell_type": "markdown",
   "metadata": {},
   "source": [
    "Settings for the experiment:"
   ]
  },
  {
   "cell_type": "code",
   "execution_count": 9,
   "metadata": {},
   "outputs": [],
   "source": [
    "# Choose strategies\n",
    "eps0=0\n",
    "eps1=0.05\n",
    "eps2=0.10\n",
    "eps3=0.20 "
   ]
  },
  {
   "cell_type": "code",
   "execution_count": 13,
   "metadata": {},
   "outputs": [],
   "source": [
    "# Initialization\n",
    "eps_0_rewards = np.zeros(iters)\n",
    "eps_1_rewards = np.zeros(iters)\n",
    "eps_2_rewards = np.zeros(iters)\n",
    "eps_3_rewards = np.zeros(iters)\n",
    "eps_0_selection = np.zeros(k)\n",
    "eps_1_selection = np.zeros(k)\n",
    "eps_2_selection = np.zeros(k)\n",
    "eps_3_selection = np.zeros(k)\n",
    "eps_0_rewards_cum = np.zeros(iters)\n",
    "eps_1_rewards_cum = np.zeros(iters)\n",
    "eps_2_rewards_cum = np.zeros(iters)\n",
    "eps_3_rewards_cum = np.zeros(iters)\n",
    "\n",
    "# Run experiments\n",
    "for i in range(episodes):\n",
    "    # Initialize bandits\n",
    "    eps_0 = eps_greedy_bandit(k, eps0, iters, mu=mu_input)\n",
    "    eps_1 = eps_greedy_bandit(k, eps1, iters, eps_0.mu.copy())\n",
    "    eps_2 = eps_greedy_bandit(k, eps2, iters, eps_0.mu.copy())\n",
    "    eps_3 = eps_greedy_bandit(k, eps3, iters, eps_0.mu.copy())\n",
    "    \n",
    "    # Run experiments\n",
    "    eps_0.run()\n",
    "    eps_1.run()\n",
    "    eps_2.run()\n",
    "    eps_3.run()\n",
    "    \n",
    "    # Update long-term averages\n",
    "    eps_0_rewards = eps_0_rewards + (\n",
    "        eps_0.reward - eps_0_rewards) / (i + 1)\n",
    "    eps_1_rewards = eps_1_rewards + (\n",
    "        eps_1.reward - eps_1_rewards) / (i + 1)\n",
    "    eps_2_rewards = eps_2_rewards + (\n",
    "        eps_2.reward - eps_2_rewards) / (i + 1)\n",
    "    eps_3_rewards = eps_3_rewards + (\n",
    "        eps_3.reward - eps_3_rewards) / (i + 1)\n",
    "\n",
    "    # Average actions per episode\n",
    "    eps_0_selection = eps_0_selection + (\n",
    "        eps_0.k_n - eps_0_selection) / (i + 1)\n",
    "    eps_1_selection = eps_1_selection + (\n",
    "        eps_1.k_n - eps_1_selection) / (i + 1)\n",
    "    eps_2_selection = eps_2_selection + (\n",
    "        eps_2.k_n - eps_2_selection) / (i + 1)\n",
    "    eps_3_selection = eps_3_selection + (\n",
    "        eps_3.k_n - eps_3_selection) / (i + 1)"
   ]
  },
  {
   "cell_type": "code",
   "execution_count": 14,
   "metadata": {},
   "outputs": [
    {
     "data": {
      "image/png": "[encoded data removed]",
      "text/plain": [
       "<Figure size 720x576 with 1 Axes>"
      ]
     },
     "metadata": {
      "needs_background": "light"
     },
     "output_type": "display_data"
    },
    {
     "data": {
      "image/png": "[encoded data removed]",
      "text/plain": [
       "<Figure size 720x576 with 1 Axes>"
      ]
     },
     "metadata": {
      "needs_background": "light"
     },
     "output_type": "display_data"
    },
    {
     "name": "stdout",
     "output_type": "stream",
     "text": [
      "Percentage of actions selected:\n"
     ]
    },
    {
     "data": {
      "text/html": [
       "<div>\n",
       "<style scoped>\n",
       "    .dataframe tbody tr th:only-of-type {\n",
       "        vertical-align: middle;\n",
       "    }\n",
       "\n",
       "    .dataframe tbody tr th {\n",
       "        vertical-align: top;\n",
       "    }\n",
       "\n",
       "    .dataframe thead th {\n",
       "        text-align: right;\n",
       "    }\n",
       "</style>\n",
       "<table border=\"1\" class=\"dataframe\">\n",
       "  <thead>\n",
       "    <tr style=\"text-align: right;\">\n",
       "      <th></th>\n",
       "      <th>a = 0</th>\n",
       "      <th>a = 1</th>\n",
       "      <th>a = 2</th>\n",
       "      <th>a = 3</th>\n",
       "      <th>a = 4</th>\n",
       "      <th>a = 5</th>\n",
       "      <th>a = 6</th>\n",
       "      <th>a = 7</th>\n",
       "      <th>a = 8</th>\n",
       "      <th>a = 9</th>\n",
       "    </tr>\n",
       "  </thead>\n",
       "  <tbody>\n",
       "    <tr>\n",
       "      <th>eps=0</th>\n",
       "      <td>0.2662</td>\n",
       "      <td>15.3694</td>\n",
       "      <td>13.9740</td>\n",
       "      <td>10.0904</td>\n",
       "      <td>10.4000</td>\n",
       "      <td>11.4000</td>\n",
       "      <td>11.2000</td>\n",
       "      <td>9.9000</td>\n",
       "      <td>9.8000</td>\n",
       "      <td>7.6000</td>\n",
       "    </tr>\n",
       "    <tr>\n",
       "      <th>eps=0.05</th>\n",
       "      <td>0.9731</td>\n",
       "      <td>2.0943</td>\n",
       "      <td>1.2311</td>\n",
       "      <td>0.9280</td>\n",
       "      <td>1.1312</td>\n",
       "      <td>1.3650</td>\n",
       "      <td>2.2726</td>\n",
       "      <td>4.2753</td>\n",
       "      <td>11.8456</td>\n",
       "      <td>73.8838</td>\n",
       "    </tr>\n",
       "    <tr>\n",
       "      <th>eps=0.1</th>\n",
       "      <td>1.3347</td>\n",
       "      <td>1.6640</td>\n",
       "      <td>1.2522</td>\n",
       "      <td>1.2121</td>\n",
       "      <td>1.3457</td>\n",
       "      <td>1.4637</td>\n",
       "      <td>1.7479</td>\n",
       "      <td>2.7875</td>\n",
       "      <td>6.1707</td>\n",
       "      <td>81.0215</td>\n",
       "    </tr>\n",
       "    <tr>\n",
       "      <th>eps=0.2</th>\n",
       "      <td>2.1860</td>\n",
       "      <td>2.2426</td>\n",
       "      <td>2.1153</td>\n",
       "      <td>2.1096</td>\n",
       "      <td>2.0916</td>\n",
       "      <td>2.1768</td>\n",
       "      <td>2.3739</td>\n",
       "      <td>2.7505</td>\n",
       "      <td>4.4736</td>\n",
       "      <td>77.4801</td>\n",
       "    </tr>\n",
       "  </tbody>\n",
       "</table>\n",
       "</div>"
      ],
      "text/plain": [
       "           a = 0    a = 1    a = 2    a = 3    a = 4    a = 5    a = 6  \\\n",
       "eps=0     0.2662  15.3694  13.9740  10.0904  10.4000  11.4000  11.2000   \n",
       "eps=0.05  0.9731   2.0943   1.2311   0.9280   1.1312   1.3650   2.2726   \n",
       "eps=0.1   1.3347   1.6640   1.2522   1.2121   1.3457   1.4637   1.7479   \n",
       "eps=0.2   2.1860   2.2426   2.1153   2.1096   2.0916   2.1768   2.3739   \n",
       "\n",
       "           a = 7    a = 8    a = 9  \n",
       "eps=0     9.9000   9.8000   7.6000  \n",
       "eps=0.05  4.2753  11.8456  73.8838  \n",
       "eps=0.1   2.7875   6.1707  81.0215  \n",
       "eps=0.2   2.7505   4.4736  77.4801  "
      ]
     },
     "execution_count": 14,
     "metadata": {},
     "output_type": "execute_result"
    }
   ],
   "source": [
    "# Plot average rewards    \n",
    "plt.figure(figsize=(10,8))\n",
    "plt.plot(eps_0_rewards, label=\"$\\epsilon=$\"+str(eps0))\n",
    "plt.plot(eps_1_rewards, label=\"$\\epsilon=$\"+str(eps1))\n",
    "plt.plot(eps_2_rewards, label=\"$\\epsilon=$\"+str(eps2))\n",
    "plt.plot(eps_3_rewards, label=\"$\\epsilon=$\"+str(eps3))\n",
    "for i in range(k):\n",
    "    plt.hlines(eps_0.mu[i], xmin=0,\n",
    "              xmax=iters, alpha=0.05,\n",
    "              linestyle=\"--\")\n",
    "plt.legend(bbox_to_anchor=(1.2, 0.5))\n",
    "plt.xlabel(\"Iterations\")\n",
    "plt.ylabel(\"Average Reward\")\n",
    "plt.title(\"Average $\\epsilon$-greedy Rewards after \" + \n",
    "     str(episodes) + \" Episodes\")\n",
    "plt.show()\n",
    "\n",
    "# Counts of actions\n",
    "bins = np.linspace(0, k-1, k)\n",
    "\n",
    "plt.figure(figsize=(10,8))\n",
    "plt.bar(bins, eps_0_selection, \n",
    "        width = 0.25, color='b', \n",
    "        label=\"$\\epsilon=$\"+str(eps0))\n",
    "plt.bar(bins+0.25, eps_1_selection,\n",
    "        width=0.25, color='g', \n",
    "        label=\"$\\epsilon=$\"+str(eps1))\n",
    "plt.bar(bins+0.50, eps_2_selection, \n",
    "        width=0.25, color='r',\n",
    "        label=\"$\\epsilon=$\"+str(eps2))\n",
    "plt.bar(bins+0.75, eps_3_selection, \n",
    "        width=0.25, color='y',\n",
    "        label=\"$\\epsilon=$\"+str(eps3))\n",
    "plt.legend(bbox_to_anchor=(1.2, 0.5))\n",
    "plt.xlim([0,k])\n",
    "plt.title(\"Actions Selected by Each Algorithm\")\n",
    "plt.xlabel(\"Action\")\n",
    "plt.ylabel(\"Number of Actions Taken\")\n",
    "plt.show()\n",
    "\n",
    "opt_per = np.array([eps_0_selection, eps_1_selection,\n",
    "                   eps_2_selection, eps_3_selection]) / iters * 100\n",
    "df = pd.DataFrame(opt_per, index=['eps='+str(eps0), \n",
    "    'eps='+str(eps1), 'eps='+str(eps2), 'eps='+str(eps3)],\n",
    "                 columns=[\"a = \" + str(x) for x in range(0, k)])\n",
    "print(\"Percentage of actions selected:\")\n",
    "df"
   ]
  },
  {
   "cell_type": "markdown",
   "metadata": {},
   "source": [
    "### $\\varepsilon$-decay strategy"
   ]
  },
  {
   "cell_type": "code",
   "execution_count": 11,
   "metadata": {},
   "outputs": [],
   "source": [
    "from bandits import eps_decay_bandit"
   ]
  },
  {
   "cell_type": "markdown",
   "metadata": {},
   "source": [
    "The $\\varepsilon$-greedy strategies have an obvious weakness in that they continue to include random noise no matter how many examples they see. The $\\varepsilon$-decay, also known as $\\varepsilon$-decreasing strategy, is one of many modifications of $\\varepsilon$-greedy strategies. This strategy reduces the probability of exploration with every step, turning constant $\\varepsilon$ into the function of number of rounds played $\\varepsilon(t)$. We define $$\\varepsilon(t)=\\frac{1}{1+\\beta t},$$ where $\\beta<1$ is used for scaling. "
   ]
  },
  {
   "cell_type": "code",
   "execution_count": 12,
   "metadata": {},
   "outputs": [],
   "source": [
    "# Initialization\n",
    "eps_decay_rewards = np.zeros(iters)\n",
    "eps_greedy_rewards = np.zeros(iters)\n",
    "eps_decay_selection = np.zeros(k)\n",
    "eps_greedy_selection = np.zeros(k)\n",
    "\n",
    "# Run experiments\n",
    "for i in range(episodes):\n",
    "    # Initialize bandits\n",
    "    eps_decay = eps_decay_bandit(k, iters, 1/k, mu=mu_input)\n",
    "    eps_greedy = eps_greedy_bandit(k, 0.1, iters, eps_decay.mu.copy())\n",
    "    \n",
    "    # Run experiments\n",
    "    eps_decay.run()\n",
    "    eps_greedy.run()\n",
    "    \n",
    "    # Update long-term averages\n",
    "    eps_decay_rewards = eps_decay_rewards + (\n",
    "        eps_decay.reward - eps_decay_rewards) / (i + 1)\n",
    "    eps_greedy_rewards = eps_greedy_rewards + (\n",
    "        eps_greedy.reward - eps_greedy_rewards) / (i + 1)\n",
    "\n",
    "    # Average actions per episode\n",
    "    eps_decay_selection = eps_decay_selection + (\n",
    "        eps_decay.k_n - eps_decay_selection) / (i + 1)\n",
    "    eps_greedy_selection = eps_greedy_selection + (\n",
    "        eps_greedy.k_n - eps_greedy_selection) / (i + 1)\n",
    "    "
   ]
  },
  {
   "cell_type": "code",
   "execution_count": 15,
   "metadata": {},
   "outputs": [
    {
     "data": {
      "image/png": "[encoded data removed]",
      "text/plain": [
       "<Figure size 864x576 with 1 Axes>"
      ]
     },
     "metadata": {
      "needs_background": "light"
     },
     "output_type": "display_data"
    },
    {
     "data": {
      "image/png": "[encoded data removed]",
      "text/plain": [
       "<Figure size 720x576 with 1 Axes>"
      ]
     },
     "metadata": {
      "needs_background": "light"
     },
     "output_type": "display_data"
    },
    {
     "name": "stdout",
     "output_type": "stream",
     "text": [
      "Percentage of actions selected:\n"
     ]
    },
    {
     "data": {
      "text/html": [
       "<div>\n",
       "<style scoped>\n",
       "    .dataframe tbody tr th:only-of-type {\n",
       "        vertical-align: middle;\n",
       "    }\n",
       "\n",
       "    .dataframe tbody tr th {\n",
       "        vertical-align: top;\n",
       "    }\n",
       "\n",
       "    .dataframe thead th {\n",
       "        text-align: right;\n",
       "    }\n",
       "</style>\n",
       "<table border=\"1\" class=\"dataframe\">\n",
       "  <thead>\n",
       "    <tr style=\"text-align: right;\">\n",
       "      <th></th>\n",
       "      <th>a = 0</th>\n",
       "      <th>a = 1</th>\n",
       "      <th>a = 2</th>\n",
       "      <th>a = 3</th>\n",
       "      <th>a = 4</th>\n",
       "      <th>a = 5</th>\n",
       "      <th>a = 6</th>\n",
       "      <th>a = 7</th>\n",
       "      <th>a = 8</th>\n",
       "      <th>a = 9</th>\n",
       "    </tr>\n",
       "  </thead>\n",
       "  <tbody>\n",
       "    <tr>\n",
       "      <th>decay</th>\n",
       "      <td>0.4686</td>\n",
       "      <td>0.4759</td>\n",
       "      <td>0.4715</td>\n",
       "      <td>0.4679</td>\n",
       "      <td>0.4789</td>\n",
       "      <td>0.4939</td>\n",
       "      <td>0.5365</td>\n",
       "      <td>0.8651</td>\n",
       "      <td>5.182</td>\n",
       "      <td>90.5597</td>\n",
       "    </tr>\n",
       "    <tr>\n",
       "      <th>greedy</th>\n",
       "      <td>1.3070</td>\n",
       "      <td>1.6791</td>\n",
       "      <td>1.3278</td>\n",
       "      <td>1.2173</td>\n",
       "      <td>1.3204</td>\n",
       "      <td>1.4833</td>\n",
       "      <td>1.8359</td>\n",
       "      <td>2.3703</td>\n",
       "      <td>6.797</td>\n",
       "      <td>80.6619</td>\n",
       "    </tr>\n",
       "  </tbody>\n",
       "</table>\n",
       "</div>"
      ],
      "text/plain": [
       "         a = 0   a = 1   a = 2   a = 3   a = 4   a = 5   a = 6   a = 7  a = 8  \\\n",
       "decay   0.4686  0.4759  0.4715  0.4679  0.4789  0.4939  0.5365  0.8651  5.182   \n",
       "greedy  1.3070  1.6791  1.3278  1.2173  1.3204  1.4833  1.8359  2.3703  6.797   \n",
       "\n",
       "          a = 9  \n",
       "decay   90.5597  \n",
       "greedy  80.6619  "
      ]
     },
     "execution_count": 15,
     "metadata": {},
     "output_type": "execute_result"
    }
   ],
   "source": [
    "# Average rewards\n",
    "plt.figure(figsize=(12,8))\n",
    "plt.plot(eps_decay_rewards, label=\"$\\epsilon$ decay\")\n",
    "plt.plot(eps_greedy_rewards, label=\"$\\epsilon$ greedy:\"+str(eps_greedy.eps))\n",
    "plt.legend(bbox_to_anchor=(1.2, 0.5))\n",
    "plt.xlabel(\"Iterations\")\n",
    "plt.ylabel(\"Average Reward\")\n",
    "plt.title(\"Average $\\epsilon-decay$ and\" + \n",
    "    \"$\\epsilon-greedy$ Rewards after \" \n",
    "    + str(episodes) + \" Episodes\")\n",
    "plt.show()\n",
    "\n",
    "# Counts of actions\n",
    "bins = np.linspace(0, k-1, k)\n",
    "\n",
    "plt.figure(figsize=(10,8))\n",
    "plt.bar(bins, eps_decay_selection, \n",
    "        width = 0.5, color='b', \n",
    "        label=\"$\\epsilon$ decay\")\n",
    "plt.bar(bins+0.5, eps_greedy_selection,\n",
    "        width=0.5, color='g', \n",
    "        label=\"$\\epsilon$ greedy\"+str(eps_greedy.eps))\n",
    "plt.legend(bbox_to_anchor=(1.2, 0.5))\n",
    "plt.xlim([0,k])\n",
    "plt.title(\"Actions Selected by Each Algorithm\")\n",
    "plt.xlabel(\"Action\")\n",
    "plt.ylabel(\"Number of Actions Taken\")\n",
    "plt.show()\n",
    "\n",
    "opt_per = np.array([eps_decay_selection, eps_greedy_selection]) / iters * 100\n",
    "df = pd.DataFrame(opt_per, index=['decay', 'greedy'],\n",
    "                 columns=[\"a = \" + str(x) for x in range(0, k)])\n",
    "print(\"Percentage of actions selected:\")\n",
    "df"
   ]
  },
  {
   "cell_type": "markdown",
   "metadata": {},
   "source": [
    "### Optimistic Initial Value strategy"
   ]
  },
  {
   "cell_type": "markdown",
   "metadata": {},
   "source": [
    "If we leave the $\\varepsilon$ strategies for a while, the Optimistic Initial value strategy offers almost oposite approach to finding optimal strategy. The difference lies within the absence of adding random noise in order to find best action. Instead, we over estimate the rewards of all the actions and continuously select the maximum. In this case, the algorithm explores early on as it seeks to maximize its returns while additional information allows the values to converge to their true means. This approach does require some additional background knowledge to be included in the set up because we need at least some idea of what the rewards are so that we can over estimate them.\n",
    "\n",
    "Because of this definition, we can this strategy prepare from 0-greedy algorithm."
   ]
  },
  {
   "cell_type": "code",
   "execution_count": 16,
   "metadata": {},
   "outputs": [],
   "source": [
    "# Initialization\n",
    "oiv_rewards = np.zeros(iters)\n",
    "eps_decay_rewards = np.zeros(iters)\n",
    "eps_1_rewards = np.zeros(iters)\n",
    "oiv_selection = np.zeros(k)\n",
    "eps_decay_selection = np.zeros(k)\n",
    "eps_1_selection = np.zeros(k)\n",
    "\n",
    "# Select initial values\n",
    "oiv_init = np.repeat(10., k)\n",
    "\n",
    "# Run experiments\n",
    "for i in range(episodes):\n",
    "    # Initialize bandits\n",
    "    oiv_bandit = eps_greedy_bandit(k, 0, iters, mu=mu_input)\n",
    "    oiv_bandit.k_reward = oiv_init.copy()\n",
    "    oiv_bandit.k_n = np.ones(k)\n",
    "    eps_decay = eps_decay_bandit(k, iters,1/k, oiv_bandit.mu.copy())\n",
    "    eps_1 = eps_greedy_bandit(k, 0.1, iters, oiv_bandit.mu.copy())\n",
    "    \n",
    "    # Run experiments\n",
    "    oiv_bandit.run()\n",
    "    eps_decay.run()\n",
    "    eps_1.run()\n",
    "    \n",
    "    # Update long-term averages\n",
    "    oiv_rewards = oiv_rewards + (\n",
    "        oiv_bandit.reward - oiv_rewards) / (i + 1)\n",
    "    eps_decay_rewards = eps_decay_rewards + (\n",
    "        eps_decay.reward - eps_decay_rewards) / (i + 1)\n",
    "    eps_1_rewards = eps_1_rewards + (\n",
    "        eps_1.reward - eps_1_rewards) / (i + 1)\n",
    "\n",
    "    # Average actions per episode\n",
    "    oiv_selection = oiv_selection + (\n",
    "        oiv_bandit.k_n - oiv_selection) / (i + 1)\n",
    "    eps_decay_selection = eps_decay_selection + (\n",
    "        eps_decay.k_n - eps_decay_selection) / (i + 1)\n",
    "    eps_1_selection = eps_1_selection + (\n",
    "        eps_1.k_n- eps_1_selection) / (i + 1)\n",
    "    \n"
   ]
  },
  {
   "cell_type": "code",
   "execution_count": 17,
   "metadata": {},
   "outputs": [
    {
     "data": {
      "image/png": "[encoded data removed]",
      "text/plain": [
       "<Figure size 720x576 with 1 Axes>"
      ]
     },
     "metadata": {
      "needs_background": "light"
     },
     "output_type": "display_data"
    },
    {
     "data": {
      "image/png": "[encoded data removed]",
      "text/plain": [
       "<Figure size 720x576 with 1 Axes>"
      ]
     },
     "metadata": {
      "needs_background": "light"
     },
     "output_type": "display_data"
    },
    {
     "name": "stdout",
     "output_type": "stream",
     "text": [
      "Percentage of actions selected:\n"
     ]
    },
    {
     "data": {
      "text/html": [
       "<div>\n",
       "<style scoped>\n",
       "    .dataframe tbody tr th:only-of-type {\n",
       "        vertical-align: middle;\n",
       "    }\n",
       "\n",
       "    .dataframe tbody tr th {\n",
       "        vertical-align: top;\n",
       "    }\n",
       "\n",
       "    .dataframe thead th {\n",
       "        text-align: right;\n",
       "    }\n",
       "</style>\n",
       "<table border=\"1\" class=\"dataframe\">\n",
       "  <thead>\n",
       "    <tr style=\"text-align: right;\">\n",
       "      <th></th>\n",
       "      <th>a = 0</th>\n",
       "      <th>a = 1</th>\n",
       "      <th>a = 2</th>\n",
       "      <th>a = 3</th>\n",
       "      <th>a = 4</th>\n",
       "      <th>a = 5</th>\n",
       "      <th>a = 6</th>\n",
       "      <th>a = 7</th>\n",
       "      <th>a = 8</th>\n",
       "      <th>a = 9</th>\n",
       "    </tr>\n",
       "  </thead>\n",
       "  <tbody>\n",
       "    <tr>\n",
       "      <th>OIV</th>\n",
       "      <td>0.2000</td>\n",
       "      <td>0.2000</td>\n",
       "      <td>0.2000</td>\n",
       "      <td>0.2000</td>\n",
       "      <td>0.2002</td>\n",
       "      <td>0.2012</td>\n",
       "      <td>0.2093</td>\n",
       "      <td>0.2409</td>\n",
       "      <td>0.7627</td>\n",
       "      <td>98.5857</td>\n",
       "    </tr>\n",
       "    <tr>\n",
       "      <th>decay</th>\n",
       "      <td>0.4606</td>\n",
       "      <td>0.4697</td>\n",
       "      <td>0.4605</td>\n",
       "      <td>0.4738</td>\n",
       "      <td>0.4818</td>\n",
       "      <td>0.4959</td>\n",
       "      <td>0.5375</td>\n",
       "      <td>0.9519</td>\n",
       "      <td>6.5880</td>\n",
       "      <td>89.0803</td>\n",
       "    </tr>\n",
       "    <tr>\n",
       "      <th>greedy</th>\n",
       "      <td>1.3070</td>\n",
       "      <td>1.6791</td>\n",
       "      <td>1.3278</td>\n",
       "      <td>1.2173</td>\n",
       "      <td>1.3204</td>\n",
       "      <td>1.4833</td>\n",
       "      <td>1.8359</td>\n",
       "      <td>2.3703</td>\n",
       "      <td>6.7970</td>\n",
       "      <td>80.6619</td>\n",
       "    </tr>\n",
       "  </tbody>\n",
       "</table>\n",
       "</div>"
      ],
      "text/plain": [
       "         a = 0   a = 1   a = 2   a = 3   a = 4   a = 5   a = 6   a = 7  \\\n",
       "OIV     0.2000  0.2000  0.2000  0.2000  0.2002  0.2012  0.2093  0.2409   \n",
       "decay   0.4606  0.4697  0.4605  0.4738  0.4818  0.4959  0.5375  0.9519   \n",
       "greedy  1.3070  1.6791  1.3278  1.2173  1.3204  1.4833  1.8359  2.3703   \n",
       "\n",
       "         a = 8    a = 9  \n",
       "OIV     0.7627  98.5857  \n",
       "decay   6.5880  89.0803  \n",
       "greedy  6.7970  80.6619  "
      ]
     },
     "execution_count": 17,
     "metadata": {},
     "output_type": "execute_result"
    }
   ],
   "source": [
    "# Average rewards\n",
    "plt.figure(figsize=(10,8))\n",
    "plt.plot(oiv_rewards, label=\"OIV\")\n",
    "plt.plot(eps_decay_rewards, label=\"$\\epsilon$ decay\")\n",
    "plt.plot(eps_1_rewards, label=\"$\\epsilon$ greedy\")\n",
    "plt.legend(bbox_to_anchor=(1.2, 0.5))\n",
    "plt.xlabel(\"Iterations\")\n",
    "plt.ylabel(\"Average Reward\")\n",
    "plt.title(\"Average Bandit Strategy Rewards after \" + \n",
    "    str(episodes) + \" Episodes\")\n",
    "plt.show()\n",
    "\n",
    "# Counts of actions\n",
    "bins = np.linspace(0, k-1, k)\n",
    "\n",
    "plt.figure(figsize=(10,8))\n",
    "plt.bar(bins, oiv_selection, \n",
    "        width = 0.33, color='b', \n",
    "        label=\"OIV\")\n",
    "plt.bar(bins+0.33, eps_decay_selection,\n",
    "        width=0.33, color='g', \n",
    "        label=\"$\\epsilon$ decay\")\n",
    "plt.bar(bins+0.66, eps_1_selection,\n",
    "        width=0.33, color='r', \n",
    "        label=\"$\\epsilon$ greedy\"+str(eps_greedy.eps))\n",
    "plt.legend(bbox_to_anchor=(1.2, 0.5))\n",
    "plt.xlim([0,k])\n",
    "plt.title(\"Actions Selected by Each Algorithm\")\n",
    "plt.xlabel(\"Action\")\n",
    "plt.ylabel(\"Number of Actions Taken\")\n",
    "plt.show()\n",
    "\n",
    "opt_per = np.array([oiv_selection,eps_decay_selection, eps_greedy_selection]) / iters * 100\n",
    "df = pd.DataFrame(opt_per, index=['OIV','decay', 'greedy'],\n",
    "                 columns=[\"a = \" + str(x) for x in range(0, k)])\n",
    "print(\"Percentage of actions selected:\")\n",
    "df"
   ]
  },
  {
   "cell_type": "code",
   "execution_count": 18,
   "metadata": {},
   "outputs": [
    {
     "data": {
      "text/html": [
       "<div>\n",
       "<style scoped>\n",
       "    .dataframe tbody tr th:only-of-type {\n",
       "        vertical-align: middle;\n",
       "    }\n",
       "\n",
       "    .dataframe tbody tr th {\n",
       "        vertical-align: top;\n",
       "    }\n",
       "\n",
       "    .dataframe thead th {\n",
       "        text-align: right;\n",
       "    }\n",
       "</style>\n",
       "<table border=\"1\" class=\"dataframe\">\n",
       "  <thead>\n",
       "    <tr style=\"text-align: right;\">\n",
       "      <th></th>\n",
       "      <th>number of selections</th>\n",
       "      <th>actual reward</th>\n",
       "      <th>estimated reward</th>\n",
       "    </tr>\n",
       "  </thead>\n",
       "  <tbody>\n",
       "    <tr>\n",
       "      <th>0</th>\n",
       "      <td>1</td>\n",
       "      <td>0.0</td>\n",
       "      <td>5.16</td>\n",
       "    </tr>\n",
       "    <tr>\n",
       "      <th>1</th>\n",
       "      <td>1</td>\n",
       "      <td>1.0</td>\n",
       "      <td>5.13</td>\n",
       "    </tr>\n",
       "    <tr>\n",
       "      <th>2</th>\n",
       "      <td>1</td>\n",
       "      <td>2.0</td>\n",
       "      <td>6.30</td>\n",
       "    </tr>\n",
       "    <tr>\n",
       "      <th>3</th>\n",
       "      <td>1</td>\n",
       "      <td>3.0</td>\n",
       "      <td>6.96</td>\n",
       "    </tr>\n",
       "    <tr>\n",
       "      <th>4</th>\n",
       "      <td>1</td>\n",
       "      <td>4.0</td>\n",
       "      <td>6.72</td>\n",
       "    </tr>\n",
       "    <tr>\n",
       "      <th>5</th>\n",
       "      <td>1</td>\n",
       "      <td>5.0</td>\n",
       "      <td>8.16</td>\n",
       "    </tr>\n",
       "    <tr>\n",
       "      <th>6</th>\n",
       "      <td>1</td>\n",
       "      <td>6.0</td>\n",
       "      <td>8.15</td>\n",
       "    </tr>\n",
       "    <tr>\n",
       "      <th>7</th>\n",
       "      <td>1</td>\n",
       "      <td>7.0</td>\n",
       "      <td>8.09</td>\n",
       "    </tr>\n",
       "    <tr>\n",
       "      <th>8</th>\n",
       "      <td>1</td>\n",
       "      <td>8.0</td>\n",
       "      <td>8.65</td>\n",
       "    </tr>\n",
       "    <tr>\n",
       "      <th>9</th>\n",
       "      <td>991</td>\n",
       "      <td>9.0</td>\n",
       "      <td>8.96</td>\n",
       "    </tr>\n",
       "  </tbody>\n",
       "</table>\n",
       "</div>"
      ],
      "text/plain": [
       "   number of selections  actual reward  estimated reward\n",
       "0                     1            0.0              5.16\n",
       "1                     1            1.0              5.13\n",
       "2                     1            2.0              6.30\n",
       "3                     1            3.0              6.96\n",
       "4                     1            4.0              6.72\n",
       "5                     1            5.0              8.16\n",
       "6                     1            6.0              8.15\n",
       "7                     1            7.0              8.09\n",
       "8                     1            8.0              8.65\n",
       "9                   991            9.0              8.96"
      ]
     },
     "execution_count": 18,
     "metadata": {},
     "output_type": "execute_result"
    }
   ],
   "source": [
    "df = pd.DataFrame({\"number of selections\": oiv_bandit.k_n - 1,\n",
    "                  \"actual reward\": oiv_bandit.mu,\n",
    "                  \"estimated reward\": oiv_bandit.k_reward})\n",
    "df = df.applymap(lambda x: np.round(x, 2))\n",
    "df['number of selections'] = df['number of selections'].astype('int')\n",
    "df"
   ]
  },
  {
   "cell_type": "markdown",
   "metadata": {},
   "source": [
    "### SoftMax strategy"
   ]
  },
  {
   "cell_type": "code",
   "execution_count": 19,
   "metadata": {},
   "outputs": [],
   "source": [
    "from bandits import softmax_bandit"
   ]
  },
  {
   "cell_type": "markdown",
   "metadata": {},
   "source": [
    "The SoftMax strategy takes $\\varepsilon$ strategies to another level and pick each arm with a probability that is proportional to its average reward. Arms with greater empirical means are therefore picked with higher probability. In this project, we use Boltzmann (Gibbs) exploration $$p_i(t+1) =\\frac{e^{\\frac{\\hat{\\mu}_i}{\\tau}}}{\\sum_{j=1}^{k}e^{\\frac{\\hat{\\mu}_j}{\\tau}}},$$\n",
    "where $\\hat{\\mu}_i$ is the estimated mean of the rewards brought by the lever $i$ and $\\tau\\in\\R^+$ is a parameter called the temperature. The choice of $\\tau$’s value is left to the user."
   ]
  },
  {
   "cell_type": "code",
   "execution_count": 20,
   "metadata": {},
   "outputs": [],
   "source": [
    "sfm_1_rewards = np.zeros(iters)\n",
    "sfm_2_rewards = np.zeros(iters)\n",
    "sfm_3_rewards = np.zeros(iters)\n",
    "sfm_4_rewards = np.zeros(iters)\n",
    "eps_1_rewards = np.zeros(iters)\n",
    "\n",
    "# Run experiments\n",
    "for i in range(episodes):\n",
    "    # Initialize bandits\n",
    "    sfm1 = softmax_bandit(k, iters, T=0.05, mu=mu_input)\n",
    "    sfm2 = softmax_bandit(k, iters, T=0.1, mu=sfm1.mu.copy())\n",
    "    sfm3 = softmax_bandit(k, iters, T=0.2, mu=sfm1.mu.copy())\n",
    "    sfm4 = softmax_bandit(k, iters, T=3, mu=sfm1.mu.copy())\n",
    "    eps_1 = eps_greedy_bandit(k, 0.1, iters, mu=sfm1.mu.copy())\n",
    "    \n",
    "    # Run experiments\n",
    "    sfm1.run()\n",
    "    sfm2.run()\n",
    "    sfm3.run()\n",
    "    sfm4.run()\n",
    "    eps_1.run()\n",
    "    \n",
    "    # Update long-term averages\n",
    "    sfm_1_rewards = sfm_1_rewards + (\n",
    "        sfm1.reward - sfm_1_rewards) / (i + 1)\n",
    "    sfm_2_rewards = sfm_2_rewards + (\n",
    "        sfm2.reward - sfm_2_rewards) / (i + 1)\n",
    "    sfm_3_rewards = sfm_3_rewards + (\n",
    "        sfm3.reward - sfm_3_rewards) / (i + 1)\n",
    "    sfm_4_rewards = sfm_4_rewards + (\n",
    "        sfm4.reward - sfm_4_rewards) / (i + 1)\n",
    "    eps_1_rewards = eps_1_rewards + (\n",
    "        eps_1.reward - eps_1_rewards) / (i + 1)"
   ]
  },
  {
   "cell_type": "code",
   "execution_count": 21,
   "metadata": {},
   "outputs": [
    {
     "data": {
      "image/png": "[encoded data removed]",
      "text/plain": [
       "<Figure size 864x576 with 1 Axes>"
      ]
     },
     "metadata": {
      "needs_background": "light"
     },
     "output_type": "display_data"
    }
   ],
   "source": [
    "plt.figure(figsize=(12,8))\n",
    "plt.plot(sfm_1_rewards, label=\"SoftMax: T=\"+str(sfm1.T))\n",
    "plt.plot(sfm_2_rewards, label=\"SoftMax: T=\"+str(sfm2.T))\n",
    "plt.plot(sfm_3_rewards, label=\"SoftMax: T=\"+str(sfm3.T))\n",
    "plt.plot(sfm_4_rewards, label=\"SoftMax: T=\"+str(sfm4.T))\n",
    "plt.plot(eps_1_rewards, label=\"$\\epsilon=0.1$\")\n",
    "plt.legend(bbox_to_anchor=(1.2, 0.5))\n",
    "plt.xlabel(\"Iterations\")\n",
    "plt.ylabel(\"Average Reward\")\n",
    "plt.title(\"Average SoftMax and\" + \n",
    "    \"$\\epsilon-greedy$ Rewards after \" \n",
    "    + str(episodes) + \" Episodes\")\n",
    "plt.show()"
   ]
  },
  {
   "cell_type": "markdown",
   "metadata": {},
   "source": [
    "### SoftMax using FSA - not used, not updated"
   ]
  },
  {
   "cell_type": "code",
   "execution_count": 22,
   "metadata": {},
   "outputs": [],
   "source": [
    "from bandits import annealing_softmax_bandit"
   ]
  },
  {
   "cell_type": "markdown",
   "metadata": {},
   "source": [
    "One way to upgrade the SoftMx strategy is the use of Fast Simulated Annealing. In this approach, the constant temperature $\\tau$ is replaced by a function $\\tau(t)$ defined as $$\\tau(t) = \\frac{T_0}{1+(\\frac{t}{n_0})^\\alpha},$$ where $T_0$ is an initial temperature and $\\alpha, n_0$ are cooling parameters."
   ]
  },
  {
   "cell_type": "code",
   "execution_count": 23,
   "metadata": {},
   "outputs": [],
   "source": [
    "sfm_1_rewards = np.zeros(iters)\n",
    "sfm_2_rewards = np.zeros(iters)\n",
    "eps_1_rewards = np.zeros(iters)\n",
    "\n",
    "# Run experiments\n",
    "for i in range(episodes):\n",
    "    # Initialize bandits\n",
    "    sfm1 = annealing_softmax_bandit(k, iters, 1, 0.1,1 ,mu=mu_input)\n",
    "    sfm2 = annealing_softmax_bandit(k, iters, 1, 0.5,1 ,mu=sfm1.mu.copy())\n",
    "    eps_1 = softmax_bandit(k, iters, T=3, mu=sfm1.mu.copy())\n",
    "    \n",
    "    # Run experiments\n",
    "    sfm1.run()\n",
    "    sfm2.run()\n",
    "    eps_1.run()\n",
    "    \n",
    "    # Update long-term averages\n",
    "    sfm_1_rewards = sfm_1_rewards + (\n",
    "        sfm1.reward - sfm_1_rewards) / (i + 1)\n",
    "    sfm_2_rewards = sfm_2_rewards + (\n",
    "        sfm2.reward - sfm_2_rewards) / (i + 1)\n",
    "    eps_1_rewards = eps_1_rewards + (\n",
    "        eps_1.reward - eps_1_rewards) / (i + 1)"
   ]
  },
  {
   "cell_type": "code",
   "execution_count": 24,
   "metadata": {},
   "outputs": [
    {
     "data": {
      "image/png": "[encoded data removed]",
      "text/plain": [
       "<Figure size 864x576 with 1 Axes>"
      ]
     },
     "metadata": {
      "needs_background": "light"
     },
     "output_type": "display_data"
    }
   ],
   "source": [
    "plt.figure(figsize=(12,8))\n",
    "plt.plot(sfm_1_rewards, label=\"SoftMax+SA: a=0.1\")\n",
    "plt.plot(sfm_2_rewards, label=\"SoftMax+SA: a=0.5\")\n",
    "plt.plot(eps_1_rewards, label=\"SoftMax\")\n",
    "plt.legend(bbox_to_anchor=(1.2, 0.5))\n",
    "plt.xlabel(\"Iterations\")\n",
    "plt.ylabel(\"Average Reward\")\n",
    "plt.title(\"Average SoftMax using SA and SoftMax Rewards after\" \n",
    "    + str(episodes) + \" Episodes\")\n",
    "plt.show()"
   ]
  },
  {
   "cell_type": "markdown",
   "metadata": {},
   "source": [
    "# HEUR: K-armed bandit problem: comparison"
   ]
  },
  {
   "cell_type": "markdown",
   "metadata": {},
   "source": [
    "Searching for the best strategy for playing 1000 rounds (normalized over 1000 games)."
   ]
  },
  {
   "cell_type": "code",
   "execution_count": 2,
   "metadata": {},
   "outputs": [],
   "source": [
    "import numpy as np\n",
    "import pandas as pd\n",
    "from bandits import eps_greedy_bandit, eps_decay_bandit, softmax_bandit, annealing_softmax_bandit, eps_first_bandit\n",
    "from tqdm import tqdm\n",
    "import matplotlib.pyplot as plt \n",
    "\n",
    "# Number of arms\n",
    "k = 10\n",
    "# Number of rounds to be played within each game\n",
    "iters = 1_000\n",
    "# Number of games to be played\n",
    "episodes = 1_000\n",
    "# Mean values of arms ('random', 'sequence', 'sequence2', list, array)\n",
    "mu_input = 'sequence'\n"
   ]
  },
  {
   "cell_type": "markdown",
   "metadata": {},
   "source": [
    "## The best $\\varepsilon$-first strategy"
   ]
  },
  {
   "cell_type": "code",
   "execution_count": 5,
   "metadata": {},
   "outputs": [
    {
     "name": "stderr",
     "output_type": "stream",
     "text": [
      "100%|██████████| 101/101 [1:50:46<00:00, 65.81s/it] \n"
     ]
    },
    {
     "name": "stdout",
     "output_type": "stream",
     "text": [
      "Best $epsilon$-greedy strategy: eps=0.03\n"
     ]
    }
   ],
   "source": [
    "# Prepare output disctionary\n",
    "eps_first_results = {}\n",
    "\n",
    "for epsilon in tqdm(np.linspace(0,1,101)):\n",
    "    epsilon = round(epsilon,2)\n",
    "    # Initialization\n",
    "    eps_rewards = np.zeros(iters)\n",
    "    \n",
    "    for i in range(episodes):\n",
    "         # Initialize bandits\n",
    "        eps_first_b = eps_first_bandit(k, epsilon, iters, mu=mu_input)\n",
    "        # Run experiments\n",
    "        eps_first_b.run()\n",
    "        # Update long-term averages\n",
    "        eps_rewards = eps_rewards + (eps_first_b.reward - eps_rewards) / (i + 1)\n",
    "    \n",
    "    eps_first_results['eps='+str(epsilon)] = eps_rewards\n",
    "    \n",
    "df_first= pd.DataFrame(data = eps_first_results, index=range(1000))\n",
    "\n",
    "print('Best $epsilon$-greedy strategy:',df_first.loc[df_first.shape[0]-1].idxmax())"
   ]
  },
  {
   "cell_type": "code",
   "execution_count": 17,
   "metadata": {},
   "outputs": [],
   "source": [
    "#save result\n",
    "df_first.to_csv('df_first.csv')"
   ]
  },
  {
   "cell_type": "code",
   "execution_count": 33,
   "metadata": {},
   "outputs": [
    {
     "data": {
      "image/png": "[encoded data removed]",
      "text/plain": [
       "<Figure size 720x288 with 1 Axes>"
      ]
     },
     "metadata": {
      "needs_background": "light"
     },
     "output_type": "display_data"
    }
   ],
   "source": [
    "from tkinter import font\n",
    "\n",
    "\n",
    "chop = pd.DataFrame()\n",
    "\n",
    "chop['epsV'] = df_first.columns.to_list()\n",
    "chop['reward'] = df_first.iloc[999].to_list()\n",
    "chop['eps'] = chop['epsV'].apply(lambda x: x.replace('eps=','')).astype(float)\n",
    "chop.head()\n",
    "\n",
    "plt.figure(figsize=(10,4))\n",
    "plt.plot(chop['eps'], chop['reward'], '.')\n",
    "plt.xticks(np.linspace(0,1,21),rotation=90)\n",
    "plt.xlabel('$\\epsilon$')\n",
    "plt.ylabel('Final Mean Reward after 1000 games.')\n",
    "plt.title('$\\epsilon$ - first strategy GridSearch results.')\n",
    "plt.xlim((0,1))\n",
    "\n",
    "plt.savefig('e_fisrt.png')"
   ]
  },
  {
   "cell_type": "markdown",
   "metadata": {},
   "source": [
    "## The best $\\varepsilon$-greedy strategy\n"
   ]
  },
  {
   "cell_type": "code",
   "execution_count": 34,
   "metadata": {},
   "outputs": [
    {
     "name": "stderr",
     "output_type": "stream",
     "text": [
      "100%|██████████| 101/101 [22:27<00:00, 13.34s/it]"
     ]
    },
    {
     "name": "stdout",
     "output_type": "stream",
     "text": [
      "Best $epsilon$-greedy strategy: eps=0.07\n"
     ]
    },
    {
     "name": "stderr",
     "output_type": "stream",
     "text": [
      "\n"
     ]
    }
   ],
   "source": [
    "# Prepare output disctionary\n",
    "eps_greedy_results = {}\n",
    "\n",
    "for epsilon in tqdm(np.linspace(0,1,101)):\n",
    "    epsilon = round(epsilon,2)\n",
    "    # Initialization\n",
    "    eps_rewards = np.zeros(iters)\n",
    "    \n",
    "    for i in range(episodes):\n",
    "         # Initialize bandits\n",
    "        eps_greedy_b = eps_greedy_bandit(k, epsilon, iters, mu=mu_input)\n",
    "        # Run experiments\n",
    "        eps_greedy_b.run()\n",
    "        # Update long-term averages\n",
    "        eps_rewards = eps_rewards + (eps_greedy_b.reward - eps_rewards) / (i + 1)\n",
    "    \n",
    "    eps_greedy_results['eps='+str(epsilon)] = eps_rewards\n",
    "    \n",
    "df_greedy = pd.DataFrame(data = eps_greedy_results, index=range(1000))\n",
    "\n",
    "#save result\n",
    "df_greedy.to_csv('df_greedy.csv')\n",
    "\n",
    "print('Best $epsilon$-greedy strategy:',df_greedy.loc[df_greedy.shape[0]-1].idxmax())"
   ]
  },
  {
   "cell_type": "code",
   "execution_count": 35,
   "metadata": {},
   "outputs": [
    {
     "data": {
      "image/png": "[encoded data removed]",
      "text/plain": [
       "<Figure size 720x288 with 1 Axes>"
      ]
     },
     "metadata": {
      "needs_background": "light"
     },
     "output_type": "display_data"
    }
   ],
   "source": [
    "chop = pd.DataFrame()\n",
    "\n",
    "chop['epsV'] = df_greedy.columns.to_list()\n",
    "chop['reward'] = df_greedy.iloc[999].to_list()\n",
    "chop['eps'] = chop['epsV'].apply(lambda x: x.replace('eps=','')).astype(float)\n",
    "chop.head()\n",
    "\n",
    "plt.figure(figsize=(10,4))\n",
    "plt.plot(chop['eps'], chop['reward'], '.')\n",
    "plt.xticks(np.linspace(0,1,21),rotation=90)\n",
    "plt.xlabel('$\\epsilon$')\n",
    "plt.ylabel('Final Mean Reward after 1000 games.')\n",
    "plt.title('$\\epsilon$ - greedy strategy GridSearch results.')\n",
    "plt.xlim((0,1))\n",
    "\n",
    "plt.savefig('e_greedy.png')"
   ]
  },
  {
   "cell_type": "markdown",
   "metadata": {},
   "source": [
    "## The best $\\varepsilon$-decay strategy"
   ]
  },
  {
   "cell_type": "code",
   "execution_count": 36,
   "metadata": {},
   "outputs": [
    {
     "name": "stderr",
     "output_type": "stream",
     "text": [
      "100%|██████████| 101/101 [14:52<00:00,  8.84s/it]"
     ]
    },
    {
     "name": "stdout",
     "output_type": "stream",
     "text": [
      "Best $\\epsilon$-decay strategy: beta=0.12\n"
     ]
    },
    {
     "name": "stderr",
     "output_type": "stream",
     "text": [
      "\n"
     ]
    }
   ],
   "source": [
    "eps_decay_results = {}\n",
    "\n",
    "for beta in tqdm(np.linspace(0,1,101)):\n",
    "    # Initialization\n",
    "    bandit_rewards = np.zeros(iters)\n",
    "    beta = round(beta,2)\n",
    "    for i in range(episodes):\n",
    "        bandit = eps_decay_bandit(k, iters, beta, mu=mu_input)\n",
    "        # Run experiments\n",
    "        bandit.run()\n",
    "        # Update long-term averages\n",
    "        bandit_rewards = bandit_rewards + (bandit.reward - bandit_rewards) / (i + 1)\n",
    "\n",
    "    eps_decay_results['beta='+str(beta)] = bandit_rewards \n",
    "\n",
    "df_decay = pd.DataFrame(data = eps_decay_results, index=range(1000))\n",
    "\n",
    "#save result\n",
    "df_decay.to_csv('df_decay.csv')\n",
    "\n",
    "print('Best $\\epsilon$-decay strategy:',df_decay.loc[df_decay.shape[0]-1].idxmax())"
   ]
  },
  {
   "cell_type": "code",
   "execution_count": 38,
   "metadata": {},
   "outputs": [
    {
     "data": {
      "text/html": [
       "<div>\n",
       "<style scoped>\n",
       "    .dataframe tbody tr th:only-of-type {\n",
       "        vertical-align: middle;\n",
       "    }\n",
       "\n",
       "    .dataframe tbody tr th {\n",
       "        vertical-align: top;\n",
       "    }\n",
       "\n",
       "    .dataframe thead th {\n",
       "        text-align: right;\n",
       "    }\n",
       "</style>\n",
       "<table border=\"1\" class=\"dataframe\">\n",
       "  <thead>\n",
       "    <tr style=\"text-align: right;\">\n",
       "      <th></th>\n",
       "      <th>beta=0.0</th>\n",
       "      <th>beta=0.01</th>\n",
       "      <th>beta=0.02</th>\n",
       "      <th>beta=0.03</th>\n",
       "      <th>beta=0.04</th>\n",
       "      <th>beta=0.05</th>\n",
       "      <th>beta=0.06</th>\n",
       "      <th>beta=0.07</th>\n",
       "      <th>beta=0.08</th>\n",
       "      <th>beta=0.09</th>\n",
       "      <th>...</th>\n",
       "      <th>beta=0.91</th>\n",
       "      <th>beta=0.92</th>\n",
       "      <th>beta=0.93</th>\n",
       "      <th>beta=0.94</th>\n",
       "      <th>beta=0.95</th>\n",
       "      <th>beta=0.96</th>\n",
       "      <th>beta=0.97</th>\n",
       "      <th>beta=0.98</th>\n",
       "      <th>beta=0.99</th>\n",
       "      <th>beta=1.0</th>\n",
       "    </tr>\n",
       "  </thead>\n",
       "  <tbody>\n",
       "    <tr>\n",
       "      <th>0</th>\n",
       "      <td>4.579883</td>\n",
       "      <td>4.470319</td>\n",
       "      <td>4.551591</td>\n",
       "      <td>4.523011</td>\n",
       "      <td>4.527424</td>\n",
       "      <td>4.605504</td>\n",
       "      <td>4.528735</td>\n",
       "      <td>4.609664</td>\n",
       "      <td>4.618958</td>\n",
       "      <td>4.540322</td>\n",
       "      <td>...</td>\n",
       "      <td>4.600351</td>\n",
       "      <td>4.474727</td>\n",
       "      <td>4.297584</td>\n",
       "      <td>4.622758</td>\n",
       "      <td>4.539763</td>\n",
       "      <td>4.548922</td>\n",
       "      <td>4.589396</td>\n",
       "      <td>4.441602</td>\n",
       "      <td>4.420354</td>\n",
       "      <td>4.395054</td>\n",
       "    </tr>\n",
       "  </tbody>\n",
       "</table>\n",
       "<p>1 rows × 101 columns</p>\n",
       "</div>"
      ],
      "text/plain": [
       "   beta=0.0  beta=0.01  beta=0.02  beta=0.03  beta=0.04  beta=0.05  beta=0.06  \\\n",
       "0  4.579883   4.470319   4.551591   4.523011   4.527424   4.605504   4.528735   \n",
       "\n",
       "   beta=0.07  beta=0.08  beta=0.09  ...  beta=0.91  beta=0.92  beta=0.93  \\\n",
       "0   4.609664   4.618958   4.540322  ...   4.600351   4.474727   4.297584   \n",
       "\n",
       "   beta=0.94  beta=0.95  beta=0.96  beta=0.97  beta=0.98  beta=0.99  beta=1.0  \n",
       "0   4.622758   4.539763   4.548922   4.589396   4.441602   4.420354  4.395054  \n",
       "\n",
       "[1 rows x 101 columns]"
      ]
     },
     "execution_count": 38,
     "metadata": {},
     "output_type": "execute_result"
    }
   ],
   "source": [
    "df_decay.head(1)"
   ]
  },
  {
   "cell_type": "code",
   "execution_count": 41,
   "metadata": {},
   "outputs": [
    {
     "data": {
      "image/png": "[encoded data removed]",
      "text/plain": [
       "<Figure size 720x288 with 1 Axes>"
      ]
     },
     "metadata": {
      "needs_background": "light"
     },
     "output_type": "display_data"
    }
   ],
   "source": [
    "chop = pd.DataFrame()\n",
    "\n",
    "chop['betaV'] = df_decay.columns.to_list()\n",
    "chop['reward'] = df_decay.iloc[999].to_list()\n",
    "chop['beta'] = chop['betaV'].apply(lambda x: x.replace('beta=','')).astype(float)\n",
    "chop.head()\n",
    "\n",
    "plt.figure(figsize=(10,4))\n",
    "plt.plot(chop['beta'], chop['reward'], '.')\n",
    "plt.xticks(np.linspace(0,1,21),rotation=90)\n",
    "plt.xlabel('$\\\\beta$')\n",
    "plt.ylabel('Final Mean Reward after 1000 games.')\n",
    "plt.title('$\\epsilon$ - decay strategy GridSearch results.')\n",
    "plt.xlim((0,1))\n",
    "\n",
    "plt.savefig('e_decay.png')"
   ]
  },
  {
   "cell_type": "markdown",
   "metadata": {},
   "source": [
    "## The best Optimistic Value Strategy\n",
    "\n",
    "The only thing we can change here are the initial estimates."
   ]
  },
  {
   "cell_type": "code",
   "execution_count": 4,
   "metadata": {},
   "outputs": [
    {
     "name": "stdout",
     "output_type": "stream",
     "text": [
      "Best strategy: estimate=10.25\n"
     ]
    }
   ],
   "source": [
    "oiv_results = {}\n",
    "\n",
    "for est in np.linspace(0,50,201):\n",
    "    # Initialization\n",
    "    bandit_rewards = np.zeros(iters)\n",
    "    # Select initial values\n",
    "    oiv_init = np.repeat(est, k)\n",
    "    \n",
    "    for i in range(episodes):\n",
    "        bandit = eps_greedy_bandit(k, 0, iters, mu=mu_input)\n",
    "        bandit.k_reward = oiv_init.copy()\n",
    "        bandit.k_n = np.ones(k)\n",
    "        # Run experiments\n",
    "        bandit.run()\n",
    "        # Update long-term averages\n",
    "        bandit_rewards = bandit_rewards + (bandit.reward - bandit_rewards) / (i + 1)\n",
    "\n",
    "    oiv_results['estimate='+str(est)] = bandit_rewards \n",
    "\n",
    "df_oiv = pd.DataFrame(data = oiv_results, index=range(1000))\n",
    "\n",
    "df_oiv.to_csv('df_oiv.csv')\n",
    "\n",
    "print('Best strategy:',df_oiv.loc[df_oiv.shape[0]-1].idxmax())"
   ]
  },
  {
   "cell_type": "code",
   "execution_count": 5,
   "metadata": {},
   "outputs": [
    {
     "data": {
      "text/html": [
       "<div>\n",
       "<style scoped>\n",
       "    .dataframe tbody tr th:only-of-type {\n",
       "        vertical-align: middle;\n",
       "    }\n",
       "\n",
       "    .dataframe tbody tr th {\n",
       "        vertical-align: top;\n",
       "    }\n",
       "\n",
       "    .dataframe thead th {\n",
       "        text-align: right;\n",
       "    }\n",
       "</style>\n",
       "<table border=\"1\" class=\"dataframe\">\n",
       "  <thead>\n",
       "    <tr style=\"text-align: right;\">\n",
       "      <th></th>\n",
       "      <th>estimate=0.0</th>\n",
       "      <th>estimate=0.25</th>\n",
       "      <th>estimate=0.5</th>\n",
       "      <th>estimate=0.75</th>\n",
       "      <th>estimate=1.0</th>\n",
       "      <th>estimate=1.25</th>\n",
       "      <th>estimate=1.5</th>\n",
       "      <th>estimate=1.75</th>\n",
       "      <th>estimate=2.0</th>\n",
       "      <th>estimate=2.25</th>\n",
       "      <th>...</th>\n",
       "      <th>estimate=47.75</th>\n",
       "      <th>estimate=48.0</th>\n",
       "      <th>estimate=48.25</th>\n",
       "      <th>estimate=48.5</th>\n",
       "      <th>estimate=48.75</th>\n",
       "      <th>estimate=49.0</th>\n",
       "      <th>estimate=49.25</th>\n",
       "      <th>estimate=49.5</th>\n",
       "      <th>estimate=49.75</th>\n",
       "      <th>estimate=50.0</th>\n",
       "    </tr>\n",
       "  </thead>\n",
       "  <tbody>\n",
       "    <tr>\n",
       "      <th>0</th>\n",
       "      <td>4.528554</td>\n",
       "      <td>4.461932</td>\n",
       "      <td>4.348648</td>\n",
       "      <td>4.433057</td>\n",
       "      <td>4.502325</td>\n",
       "      <td>4.48378</td>\n",
       "      <td>4.523028</td>\n",
       "      <td>4.488261</td>\n",
       "      <td>4.450629</td>\n",
       "      <td>4.638177</td>\n",
       "      <td>...</td>\n",
       "      <td>4.491668</td>\n",
       "      <td>4.447636</td>\n",
       "      <td>4.532095</td>\n",
       "      <td>4.488803</td>\n",
       "      <td>4.524359</td>\n",
       "      <td>4.572229</td>\n",
       "      <td>4.469988</td>\n",
       "      <td>4.428892</td>\n",
       "      <td>4.430612</td>\n",
       "      <td>4.737815</td>\n",
       "    </tr>\n",
       "  </tbody>\n",
       "</table>\n",
       "<p>1 rows × 201 columns</p>\n",
       "</div>"
      ],
      "text/plain": [
       "   estimate=0.0  estimate=0.25  estimate=0.5  estimate=0.75  estimate=1.0  \\\n",
       "0      4.528554       4.461932      4.348648       4.433057      4.502325   \n",
       "\n",
       "   estimate=1.25  estimate=1.5  estimate=1.75  estimate=2.0  estimate=2.25  \\\n",
       "0        4.48378      4.523028       4.488261      4.450629       4.638177   \n",
       "\n",
       "   ...  estimate=47.75  estimate=48.0  estimate=48.25  estimate=48.5  \\\n",
       "0  ...        4.491668       4.447636        4.532095       4.488803   \n",
       "\n",
       "   estimate=48.75  estimate=49.0  estimate=49.25  estimate=49.5  \\\n",
       "0        4.524359       4.572229        4.469988       4.428892   \n",
       "\n",
       "   estimate=49.75  estimate=50.0  \n",
       "0        4.430612       4.737815  \n",
       "\n",
       "[1 rows x 201 columns]"
      ]
     },
     "execution_count": 5,
     "metadata": {},
     "output_type": "execute_result"
    }
   ],
   "source": [
    "df_oiv.head(1)"
   ]
  },
  {
   "cell_type": "code",
   "execution_count": 8,
   "metadata": {},
   "outputs": [
    {
     "data": {
      "image/png": "[encoded data removed]",
      "text/plain": [
       "<Figure size 720x288 with 1 Axes>"
      ]
     },
     "metadata": {
      "needs_background": "light"
     },
     "output_type": "display_data"
    }
   ],
   "source": [
    "chop = pd.DataFrame()\n",
    "\n",
    "chop['oivV'] = df_oiv.columns.to_list()\n",
    "chop['reward'] = df_oiv.iloc[999].to_list()\n",
    "chop['OIV'] = chop['oivV'].apply(lambda x: x.replace('estimate=','')).astype(float)\n",
    "chop.head()\n",
    "\n",
    "plt.figure(figsize=(10,4))\n",
    "plt.plot(chop['OIV'], chop['reward'], '.')\n",
    "plt.xticks(rotation=90)\n",
    "plt.xlabel('OIV')\n",
    "plt.ylabel('Final Mean Reward after 1000 games.')\n",
    "plt.title('Optimistic Value strategy GridSearch results.')\n",
    "\n",
    "plt.savefig('oiv.png')"
   ]
  },
  {
   "cell_type": "markdown",
   "metadata": {},
   "source": [
    "## The best SoftMax strategy"
   ]
  },
  {
   "cell_type": "code",
   "execution_count": 3,
   "metadata": {},
   "outputs": [
    {
     "name": "stderr",
     "output_type": "stream",
     "text": [
      "100%|██████████| 100/100 [43:42<00:00, 26.22s/it]"
     ]
    },
    {
     "name": "stdout",
     "output_type": "stream",
     "text": [
      "Best SoftMax strategy: T=1.2\n"
     ]
    },
    {
     "name": "stderr",
     "output_type": "stream",
     "text": [
      "\n"
     ]
    }
   ],
   "source": [
    "softmax_results = {}\n",
    "\n",
    "for temp in tqdm(np.linspace(0.05,5,100)):\n",
    "    # Initialization\n",
    "    bandit_rewards = np.zeros(iters)\n",
    "    temp = round(temp,2)\n",
    "\n",
    "    for i in range(episodes):\n",
    "        bandit = softmax_bandit(k, iters, T=temp, mu=mu_input)\n",
    "        # Run experiments\n",
    "        bandit.run()\n",
    "        # Update long-term averages\n",
    "        bandit_rewards = bandit_rewards + (bandit.reward - bandit_rewards) / (i + 1)\n",
    "\n",
    "    softmax_results['T='+str(temp)] = bandit_rewards \n",
    "\n",
    "df_softmax = pd.DataFrame(data = softmax_results, index=range(1000))\n",
    "\n",
    "df_softmax.to_csv('df_sm.csv')\n",
    "\n",
    "print('Best SoftMax strategy:',df_softmax.loc[df_softmax.shape[0]-1].idxmax())"
   ]
  },
  {
   "cell_type": "code",
   "execution_count": 5,
   "metadata": {},
   "outputs": [
    {
     "data": {
      "image/png": "[encoded data removed]",
      "text/plain": [
       "<Figure size 720x288 with 1 Axes>"
      ]
     },
     "metadata": {
      "needs_background": "light"
     },
     "output_type": "display_data"
    }
   ],
   "source": [
    "chop = pd.DataFrame()\n",
    "\n",
    "chop['TV'] = df_softmax.columns.to_list()\n",
    "chop['reward'] = df_softmax.iloc[999].to_list()\n",
    "chop['Temperature'] = chop['TV'].apply(lambda x: x.replace('T=','')).astype(float)\n",
    "chop.head()\n",
    "\n",
    "plt.figure(figsize=(10,4))\n",
    "plt.plot(chop['Temperature'], chop['reward'], '.')\n",
    "plt.xticks(rotation=90)\n",
    "plt.xlabel('Temperature')\n",
    "plt.ylabel('Final Mean Reward after 1000 games.')\n",
    "plt.title('Soft Max strategy GridSearch results.')\n",
    "\n",
    "plt.savefig('SM.png')"
   ]
  },
  {
   "cell_type": "markdown",
   "metadata": {},
   "source": [
    "## The best SoftMax strategy using Simulated Annealing - not used, not updated"
   ]
  },
  {
   "cell_type": "code",
   "execution_count": null,
   "metadata": {},
   "outputs": [],
   "source": [
    "SA_softmax_results = {}\n",
    "\n",
    "for alfa in tqdm(np.linspace(0.0001,1,11)):\n",
    "    # Initialization\n",
    "    bandit_rewards = np.zeros(iters)\n",
    "\n",
    "    for i in range(episodes):\n",
    "        bandit = annealing_softmax_bandit(k, iters, 1.15, alfa, 1, mu=mu_input)\n",
    "        # Run experiments\n",
    "        bandit.run()\n",
    "        # Update long-term averages\n",
    "        bandit_rewards = bandit_rewards + (bandit.reward - bandit_rewards) / (i + 1)\n",
    "    SA_softmax_results['alfa='+str(alfa)] = bandit_rewards \n",
    "\n",
    "df_SA = pd.DataFrame(data = SA_softmax_results, index=range(1000))\n",
    "\n",
    "df_SA.to_csv('df_sa.csv')\n",
    "\n",
    "print('Best SoftMax + SA strategy:',df_SA.loc[df_SA.shape[0]-1].idxmax())"
   ]
  },
  {
   "cell_type": "markdown",
   "metadata": {},
   "source": [
    "## The best SoftMax strategy using GA"
   ]
  },
  {
   "cell_type": "code",
   "execution_count": 28,
   "metadata": {},
   "outputs": [],
   "source": [
    "from geneticalgorithm import geneticalgorithm as ga"
   ]
  },
  {
   "cell_type": "code",
   "execution_count": 29,
   "metadata": {},
   "outputs": [],
   "source": [
    "def f(X):\n",
    "\n",
    "    sfm_1_rewards = np.zeros(1000)\n",
    "\n",
    "    for i in range(500):\n",
    "        sfm1 = softmax_bandit(10, 1000, T=X, mu='sequence')\n",
    "        sfm1.run()\n",
    "\n",
    "        # Update long-term averages\n",
    "        sfm_1_rewards = sfm_1_rewards + (\n",
    "        sfm1.reward - sfm_1_rewards) / (i + 1)\n",
    "\n",
    "    return -sfm_1_rewards[999]"
   ]
  },
  {
   "cell_type": "code",
   "execution_count": 30,
   "metadata": {},
   "outputs": [
    {
     "name": "stdout",
     "output_type": "stream",
     "text": [
      " The best solution found:                                                                           \n",
      " [1.21448554]\n",
      "\n",
      " Objective function:\n",
      " -8.103570648351248\n"
     ]
    },
    {
     "data": {
      "image/png": "[encoded data removed]",
      "text/plain": [
       "<Figure size 432x288 with 1 Axes>"
      ]
     },
     "metadata": {
      "needs_background": "light"
     },
     "output_type": "display_data"
    }
   ],
   "source": [
    "varbound=np.array([[0.5,1.5]]*1)\n",
    "\n",
    "model=ga(function=f,dimension=1,variable_type='real',variable_boundaries=varbound, function_timeout=120)\n",
    "\n",
    "model.run()"
   ]
  },
  {
   "cell_type": "markdown",
   "metadata": {},
   "source": [
    "# Summary"
   ]
  },
  {
   "cell_type": "code",
   "execution_count": 18,
   "metadata": {},
   "outputs": [],
   "source": [
    "sfm_ga_rewards = np.zeros(iters)\n",
    "\n",
    "# Run experiments\n",
    "for i in range(episodes):\n",
    "    # Initialize bandits\n",
    "    sfm_ga = softmax_bandit(k, iters, 1.16700524, mu=mu_input)\n",
    "    \n",
    "    # Run experiments\n",
    "    sfm_ga.run()\n",
    "   \n",
    "    # Update long-term averages\n",
    "    sfm_ga_rewards = sfm_ga_rewards + (\n",
    "        sfm_ga.reward - sfm_ga_rewards) / (i + 1)"
   ]
  },
  {
   "cell_type": "code",
   "execution_count": 8,
   "metadata": {},
   "outputs": [],
   "source": [
    "df_greedy = pd.read_csv(\"df_greedy.csv\").drop(['Unnamed: 0'],axis=1)\n",
    "df_first = pd.read_csv(\"df_first.csv\").drop(['Unnamed: 0'],axis=1)\n",
    "df_decay = pd.read_csv(\"df_decay.csv\").drop(['Unnamed: 0'],axis=1)\n",
    "df_softmax = pd.read_csv(\"df_sm.csv\").drop(['Unnamed: 0'],axis=1)"
   ]
  },
  {
   "cell_type": "code",
   "execution_count": 27,
   "metadata": {},
   "outputs": [
    {
     "data": {
      "image/png": "[encoded data removed]",
      "text/plain": [
       "<Figure size 720x432 with 1 Axes>"
      ]
     },
     "metadata": {
      "needs_background": "light"
     },
     "output_type": "display_data"
    }
   ],
   "source": [
    "plt.figure(figsize=(10,6))\n",
    "plt.plot(df_first[df_first.loc[df_first.shape[0]-1].idxmax()], label=\"First: \"+df_first.loc[df_first.shape[0]-1].idxmax())\n",
    "plt.plot(df_greedy[df_greedy.loc[df_greedy.shape[0]-1].idxmax()], label=\"Greedy: \"+df_greedy.loc[df_greedy.shape[0]-1].idxmax())\n",
    "plt.plot(df_decay[df_decay.loc[df_decay.shape[0]-1].idxmax()], label=\"Decay: \"+df_decay.loc[df_decay.shape[0]-1].idxmax())\n",
    "plt.plot(df_softmax[df_softmax.loc[df_softmax.shape[0]-1].idxmax()], label=\"SoftMax: \"+df_softmax.loc[df_softmax.shape[0]-1].idxmax())\n",
    "plt.plot(sfm_ga_rewards, label=\"SoftMax+GA: T=1.67\")\n",
    "plt.legend(bbox_to_anchor=(1, 0.3))\n",
    "plt.xlabel(\"Iterations\")\n",
    "plt.ylabel(\"Average Reward\")\n",
    "plt.title(\"Average Rewards after \" \n",
    "    + str(episodes) + \" Episodes for each strategy\")\n",
    "plt.show()"
   ]
  },
  {
   "cell_type": "code",
   "execution_count": 20,
   "metadata": {},
   "outputs": [
    {
     "data": {
      "text/html": [
       "<div>\n",
       "<style scoped>\n",
       "    .dataframe tbody tr th:only-of-type {\n",
       "        vertical-align: middle;\n",
       "    }\n",
       "\n",
       "    .dataframe tbody tr th {\n",
       "        vertical-align: top;\n",
       "    }\n",
       "\n",
       "    .dataframe thead th {\n",
       "        text-align: right;\n",
       "    }\n",
       "</style>\n",
       "<table border=\"1\" class=\"dataframe\">\n",
       "  <thead>\n",
       "    <tr style=\"text-align: right;\">\n",
       "      <th></th>\n",
       "      <th>eps=0.0</th>\n",
       "      <th>eps=0.01</th>\n",
       "      <th>eps=0.02</th>\n",
       "      <th>eps=0.03</th>\n",
       "      <th>eps=0.04</th>\n",
       "      <th>eps=0.05</th>\n",
       "      <th>eps=0.06</th>\n",
       "      <th>eps=0.07</th>\n",
       "      <th>eps=0.08</th>\n",
       "      <th>eps=0.09</th>\n",
       "      <th>...</th>\n",
       "      <th>eps=0.91</th>\n",
       "      <th>eps=0.92</th>\n",
       "      <th>eps=0.93</th>\n",
       "      <th>eps=0.94</th>\n",
       "      <th>eps=0.95</th>\n",
       "      <th>eps=0.96</th>\n",
       "      <th>eps=0.97</th>\n",
       "      <th>eps=0.98</th>\n",
       "      <th>eps=0.99</th>\n",
       "      <th>eps=1.0</th>\n",
       "    </tr>\n",
       "  </thead>\n",
       "  <tbody>\n",
       "    <tr>\n",
       "      <th>995</th>\n",
       "      <td>4.593858</td>\n",
       "      <td>8.457132</td>\n",
       "      <td>8.736162</td>\n",
       "      <td>8.791800</td>\n",
       "      <td>8.772553</td>\n",
       "      <td>8.761885</td>\n",
       "      <td>8.714304</td>\n",
       "      <td>8.673641</td>\n",
       "      <td>8.632359</td>\n",
       "      <td>8.582760</td>\n",
       "      <td>...</td>\n",
       "      <td>4.881459</td>\n",
       "      <td>4.840138</td>\n",
       "      <td>4.795173</td>\n",
       "      <td>4.743974</td>\n",
       "      <td>4.710303</td>\n",
       "      <td>4.659592</td>\n",
       "      <td>4.607603</td>\n",
       "      <td>4.564209</td>\n",
       "      <td>4.522863</td>\n",
       "      <td>4.504256</td>\n",
       "    </tr>\n",
       "    <tr>\n",
       "      <th>996</th>\n",
       "      <td>4.593868</td>\n",
       "      <td>8.457204</td>\n",
       "      <td>8.736271</td>\n",
       "      <td>8.791950</td>\n",
       "      <td>8.772753</td>\n",
       "      <td>8.762102</td>\n",
       "      <td>8.714590</td>\n",
       "      <td>8.674042</td>\n",
       "      <td>8.632777</td>\n",
       "      <td>8.583176</td>\n",
       "      <td>...</td>\n",
       "      <td>4.885630</td>\n",
       "      <td>4.844315</td>\n",
       "      <td>4.799348</td>\n",
       "      <td>4.748230</td>\n",
       "      <td>4.714566</td>\n",
       "      <td>4.663955</td>\n",
       "      <td>4.612032</td>\n",
       "      <td>4.568637</td>\n",
       "      <td>4.527337</td>\n",
       "      <td>4.504135</td>\n",
       "    </tr>\n",
       "    <tr>\n",
       "      <th>997</th>\n",
       "      <td>4.593936</td>\n",
       "      <td>8.457227</td>\n",
       "      <td>8.736412</td>\n",
       "      <td>8.792055</td>\n",
       "      <td>8.772970</td>\n",
       "      <td>8.762265</td>\n",
       "      <td>8.714880</td>\n",
       "      <td>8.674401</td>\n",
       "      <td>8.633187</td>\n",
       "      <td>8.583637</td>\n",
       "      <td>...</td>\n",
       "      <td>4.889798</td>\n",
       "      <td>4.848423</td>\n",
       "      <td>4.803525</td>\n",
       "      <td>4.752484</td>\n",
       "      <td>4.718830</td>\n",
       "      <td>4.668328</td>\n",
       "      <td>4.616451</td>\n",
       "      <td>4.573088</td>\n",
       "      <td>4.531837</td>\n",
       "      <td>4.504221</td>\n",
       "    </tr>\n",
       "    <tr>\n",
       "      <th>998</th>\n",
       "      <td>4.593928</td>\n",
       "      <td>8.457252</td>\n",
       "      <td>8.736528</td>\n",
       "      <td>8.792191</td>\n",
       "      <td>8.773134</td>\n",
       "      <td>8.762503</td>\n",
       "      <td>8.715110</td>\n",
       "      <td>8.674729</td>\n",
       "      <td>8.633556</td>\n",
       "      <td>8.584056</td>\n",
       "      <td>...</td>\n",
       "      <td>4.893881</td>\n",
       "      <td>4.852594</td>\n",
       "      <td>4.807732</td>\n",
       "      <td>4.756719</td>\n",
       "      <td>4.723116</td>\n",
       "      <td>4.672670</td>\n",
       "      <td>4.620879</td>\n",
       "      <td>4.577496</td>\n",
       "      <td>4.536272</td>\n",
       "      <td>4.504159</td>\n",
       "    </tr>\n",
       "    <tr>\n",
       "      <th>999</th>\n",
       "      <td>4.593918</td>\n",
       "      <td>8.457345</td>\n",
       "      <td>8.736636</td>\n",
       "      <td>8.792300</td>\n",
       "      <td>8.773335</td>\n",
       "      <td>8.762708</td>\n",
       "      <td>8.715380</td>\n",
       "      <td>8.675039</td>\n",
       "      <td>8.633963</td>\n",
       "      <td>8.584444</td>\n",
       "      <td>...</td>\n",
       "      <td>4.898039</td>\n",
       "      <td>4.856687</td>\n",
       "      <td>4.811907</td>\n",
       "      <td>4.761002</td>\n",
       "      <td>4.727402</td>\n",
       "      <td>4.677009</td>\n",
       "      <td>4.625284</td>\n",
       "      <td>4.581930</td>\n",
       "      <td>4.540669</td>\n",
       "      <td>4.504141</td>\n",
       "    </tr>\n",
       "  </tbody>\n",
       "</table>\n",
       "<p>5 rows × 101 columns</p>\n",
       "</div>"
      ],
      "text/plain": [
       "      eps=0.0  eps=0.01  eps=0.02  eps=0.03  eps=0.04  eps=0.05  eps=0.06  \\\n",
       "995  4.593858  8.457132  8.736162  8.791800  8.772553  8.761885  8.714304   \n",
       "996  4.593868  8.457204  8.736271  8.791950  8.772753  8.762102  8.714590   \n",
       "997  4.593936  8.457227  8.736412  8.792055  8.772970  8.762265  8.714880   \n",
       "998  4.593928  8.457252  8.736528  8.792191  8.773134  8.762503  8.715110   \n",
       "999  4.593918  8.457345  8.736636  8.792300  8.773335  8.762708  8.715380   \n",
       "\n",
       "     eps=0.07  eps=0.08  eps=0.09  ...  eps=0.91  eps=0.92  eps=0.93  \\\n",
       "995  8.673641  8.632359  8.582760  ...  4.881459  4.840138  4.795173   \n",
       "996  8.674042  8.632777  8.583176  ...  4.885630  4.844315  4.799348   \n",
       "997  8.674401  8.633187  8.583637  ...  4.889798  4.848423  4.803525   \n",
       "998  8.674729  8.633556  8.584056  ...  4.893881  4.852594  4.807732   \n",
       "999  8.675039  8.633963  8.584444  ...  4.898039  4.856687  4.811907   \n",
       "\n",
       "     eps=0.94  eps=0.95  eps=0.96  eps=0.97  eps=0.98  eps=0.99   eps=1.0  \n",
       "995  4.743974  4.710303  4.659592  4.607603  4.564209  4.522863  4.504256  \n",
       "996  4.748230  4.714566  4.663955  4.612032  4.568637  4.527337  4.504135  \n",
       "997  4.752484  4.718830  4.668328  4.616451  4.573088  4.531837  4.504221  \n",
       "998  4.756719  4.723116  4.672670  4.620879  4.577496  4.536272  4.504159  \n",
       "999  4.761002  4.727402  4.677009  4.625284  4.581930  4.540669  4.504141  \n",
       "\n",
       "[5 rows x 101 columns]"
      ]
     },
     "execution_count": 20,
     "metadata": {},
     "output_type": "execute_result"
    }
   ],
   "source": [
    "df_first.tail()"
   ]
  }
 ],
 "metadata": {
  "interpreter": {
   "hash": "b1c5efb9fc013e774952a36f0109a124deeeb4503818b471c47b5ae9a1dbb255"
  },
  "kernelspec": {
   "display_name": "Python 3.9.6 64-bit",
   "language": "python",
   "name": "python3"
  },
  "language_info": {
   "codemirror_mode": {
    "name": "ipython",
    "version": 3
   },
   "file_extension": ".py",
   "mimetype": "text/x-python",
   "name": "python",
   "nbconvert_exporter": "python",
   "pygments_lexer": "ipython3",
   "version": "3.9.6"
  },
  "orig_nbformat": 4
 },
 "nbformat": 4,
 "nbformat_minor": 2
}
