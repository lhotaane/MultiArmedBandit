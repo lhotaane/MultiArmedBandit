{
 "cells": [
  {
   "cell_type": "markdown",
   "metadata": {},
   "source": [
    "# HEUR \n",
    "# K-armed bandit problem: theory "
   ]
  },
  {
   "cell_type": "markdown",
   "metadata": {},
   "source": [
    "## Introduction \n",
    "\n",
    "In probability theory and machine learning, multi-armed bandit problem reffers to a model which can be seen as a set of real distributions $\\{F_1,\\dots,F_K\\}$, each distribution being associated with the rewards delivered by one of the $K\\in\\N^+$ levers. Let $\\mu_1,\\dots,\\mu_K$ be the mean values associated with these reward distributions. The gambler iteratively plays one lever per round and observes the associated reward. The objective is to maximize the sum of the collected rewards. Several strategies or algorithms have been proposed as a solution to this problem in the last two decades. In this project, we will focus on the comparison of basic strategies in order to find (heuristically) best option."
   ]
  },
  {
   "cell_type": "markdown",
   "metadata": {},
   "source": [
    "We define\n",
    "* $\\mathtt{episode}$ as the number of games,\n",
    "* horizon $\\mathtt{iters}$ as the number of rounds to be played in each game,\n",
    "* maximum mean reward as $\\mu^* = \\mathtt{max}\\{\\mu_1,\\mu_2\\,... \\mu_K\\},$\n",
    "* regret $\\rho$ after $T$ rounds played as $\\rho(T) = T\\mu^* - \\sum_{t=1}^{T}r_t,$ where $r_t$ is the reward in round $t$ ($\\rho$ is also a random variable),\n",
    "* expected regret as $\\mathbb{E}[\\rho(T)]$,\n",
    "* letter $\\mathtt{k}$ for the levers (arms)."
   ]
  },
  {
   "cell_type": "markdown",
   "metadata": {},
   "source": [
    "\"One way to approach this is to select each one in turn and keep track of how much you received, then keep going back to the one that paid out the most. This is possible, but each bandit has an underlying probability distribution associated with it, meaning that you may need more samples before finding the right one. But, each pull you spend trying to figure out the best bandit to play takes you away from maximizing your reward. This basic balancing act is known as the explore-exploit dilemma.\" - *Christian Hubbs, TowardDataScience*"
   ]
  },
  {
   "cell_type": "code",
   "execution_count": 1,
   "metadata": {},
   "outputs": [
    {
     "data": {
      "text/html": [
       "<video src=\"multi_armed_bandit.webm\" controls  width=\"700\" >\n",
       "      Your browser does not support the <code>video</code> element.\n",
       "    </video>"
      ],
      "text/plain": [
       "<IPython.core.display.Video object>"
      ]
     },
     "execution_count": 1,
     "metadata": {},
     "output_type": "execute_result"
    }
   ],
   "source": [
    "from IPython.display import Video\n",
    "Video(\"multi_armed_bandit.webm\", width=700)"
   ]
  },
  {
   "cell_type": "code",
   "execution_count": 3,
   "metadata": {},
   "outputs": [],
   "source": [
    "import numpy as np \n",
    "import matplotlib.pyplot as plt \n",
    "import pandas as pd "
   ]
  },
  {
   "cell_type": "markdown",
   "metadata": {},
   "source": [
    "## Startegies"
   ]
  },
  {
   "cell_type": "markdown",
   "metadata": {},
   "source": [
    "For the purpose of following vizualisation, lets set:"
   ]
  },
  {
   "cell_type": "code",
   "execution_count": 4,
   "metadata": {},
   "outputs": [],
   "source": [
    "# Number of arms\n",
    "k = 10\n",
    "# Number of rounds to be played within each game\n",
    "iters = 1000\n",
    "# Number of games to be played\n",
    "episodes = 1000\n",
    "# Mean values of arms ('random', 'sequence', 'sequence2', list, array)\n",
    "mu_input = 'sequence'"
   ]
  },
  {
   "cell_type": "markdown",
   "metadata": {},
   "source": [
    "### $\\varepsilon$-first strategy"
   ]
  },
  {
   "cell_type": "code",
   "execution_count": 5,
   "metadata": {},
   "outputs": [],
   "source": [
    "from bandits import eps_first_bandit"
   ]
  },
  {
   "cell_type": "markdown",
   "metadata": {},
   "source": [
    "Before properly introducing the $\\epsilon$-first strategy, lets talk about the exploration-explotation dilemma. This dilemma defines a problem, which is trying to optimize the balance between the (random) exploring part and the part, in which is used the knowledge obtained during the experiment.  "
   ]
  },
  {
   "cell_type": "code",
   "execution_count": 6,
   "metadata": {},
   "outputs": [],
   "source": [
    "# Choose strategies\n",
    "eps0=0\n",
    "eps1=0.05\n",
    "eps2=0.10\n",
    "eps3=0.20 "
   ]
  },
  {
   "cell_type": "code",
   "execution_count": 7,
   "metadata": {},
   "outputs": [],
   "source": [
    "# Initialization\n",
    "eps_0_rewards = np.zeros(iters)\n",
    "eps_1_rewards = np.zeros(iters)\n",
    "eps_2_rewards = np.zeros(iters)\n",
    "eps_3_rewards = np.zeros(iters)\n",
    "eps_0_selection = np.zeros(k)\n",
    "eps_1_selection = np.zeros(k)\n",
    "eps_2_selection = np.zeros(k)\n",
    "eps_3_selection = np.zeros(k)\n",
    "eps_0_rewards_cum = np.zeros(iters)\n",
    "eps_1_rewards_cum = np.zeros(iters)\n",
    "eps_2_rewards_cum = np.zeros(iters)\n",
    "eps_3_rewards_cum = np.zeros(iters)\n",
    "\n",
    "# Run experiments\n",
    "for i in range(episodes):\n",
    "    # Initialize bandits\n",
    "    eps_0 = eps_first_bandit(k, eps0, iters, mu=mu_input)\n",
    "    eps_1 = eps_first_bandit(k, eps1, iters, eps_0.mu.copy())\n",
    "    eps_2 = eps_first_bandit(k, eps2, iters, eps_0.mu.copy())\n",
    "    eps_3 = eps_first_bandit(k, eps3, iters, eps_0.mu.copy())\n",
    "    \n",
    "    # Run experiments\n",
    "    eps_0.run()\n",
    "    eps_1.run()\n",
    "    eps_2.run()\n",
    "    eps_3.run()\n",
    "    \n",
    "    # Update long-term averages\n",
    "    eps_0_rewards = eps_0_rewards + (\n",
    "        eps_0.reward - eps_0_rewards) / (i + 1)\n",
    "    eps_1_rewards = eps_1_rewards + (\n",
    "        eps_1.reward - eps_1_rewards) / (i + 1)\n",
    "    eps_2_rewards = eps_2_rewards + (\n",
    "        eps_2.reward - eps_2_rewards) / (i + 1)\n",
    "    eps_3_rewards = eps_3_rewards + (\n",
    "        eps_3.reward - eps_3_rewards) / (i + 1)\n",
    "\n",
    "    # Average actions per episode\n",
    "    eps_0_selection = eps_0_selection + (\n",
    "        eps_0.k_n - eps_0_selection) / (i + 1)\n",
    "    eps_1_selection = eps_1_selection + (\n",
    "        eps_1.k_n - eps_1_selection) / (i + 1)\n",
    "    eps_2_selection = eps_2_selection + (\n",
    "        eps_2.k_n - eps_2_selection) / (i + 1)\n",
    "    eps_3_selection = eps_3_selection + (\n",
    "        eps_3.k_n - eps_3_selection) / (i + 1)"
   ]
  },
  {
   "cell_type": "code",
   "execution_count": 8,
   "metadata": {},
   "outputs": [
    {
     "data": {
      "image/png": "[encoded data removed]",
      "text/plain": [
       "<Figure size 720x576 with 1 Axes>"
      ]
     },
     "metadata": {
      "needs_background": "light"
     },
     "output_type": "display_data"
    },
    {
     "data": {
      "image/png": "[encoded data removed]",
      "text/plain": [
       "<Figure size 720x576 with 1 Axes>"
      ]
     },
     "metadata": {
      "needs_background": "light"
     },
     "output_type": "display_data"
    },
    {
     "name": "stdout",
     "output_type": "stream",
     "text": [
      "Percentage of actions selected:\n"
     ]
    },
    {
     "data": {
      "text/html": [
       "<div>\n",
       "<style scoped>\n",
       "    .dataframe tbody tr th:only-of-type {\n",
       "        vertical-align: middle;\n",
       "    }\n",
       "\n",
       "    .dataframe tbody tr th {\n",
       "        vertical-align: top;\n",
       "    }\n",
       "\n",
       "    .dataframe thead th {\n",
       "        text-align: right;\n",
       "    }\n",
       "</style>\n",
       "<table border=\"1\" class=\"dataframe\">\n",
       "  <thead>\n",
       "    <tr style=\"text-align: right;\">\n",
       "      <th></th>\n",
       "      <th>a = 0</th>\n",
       "      <th>a = 1</th>\n",
       "      <th>a = 2</th>\n",
       "      <th>a = 3</th>\n",
       "      <th>a = 4</th>\n",
       "      <th>a = 5</th>\n",
       "      <th>a = 6</th>\n",
       "      <th>a = 7</th>\n",
       "      <th>a = 8</th>\n",
       "      <th>a = 9</th>\n",
       "    </tr>\n",
       "  </thead>\n",
       "  <tbody>\n",
       "    <tr>\n",
       "      <th>eps=0</th>\n",
       "      <td>0.5560</td>\n",
       "      <td>15.8062</td>\n",
       "      <td>12.9385</td>\n",
       "      <td>9.8993</td>\n",
       "      <td>12.9000</td>\n",
       "      <td>8.6000</td>\n",
       "      <td>10.3000</td>\n",
       "      <td>9.2000</td>\n",
       "      <td>8.8000</td>\n",
       "      <td>11.0000</td>\n",
       "    </tr>\n",
       "    <tr>\n",
       "      <th>eps=0.05</th>\n",
       "      <td>0.5002</td>\n",
       "      <td>0.5038</td>\n",
       "      <td>0.5137</td>\n",
       "      <td>0.5166</td>\n",
       "      <td>0.5110</td>\n",
       "      <td>0.5031</td>\n",
       "      <td>0.5185</td>\n",
       "      <td>0.5170</td>\n",
       "      <td>1.6408</td>\n",
       "      <td>94.2753</td>\n",
       "    </tr>\n",
       "    <tr>\n",
       "      <th>eps=0.1</th>\n",
       "      <td>1.0006</td>\n",
       "      <td>1.0112</td>\n",
       "      <td>1.0082</td>\n",
       "      <td>1.0072</td>\n",
       "      <td>0.9954</td>\n",
       "      <td>1.0143</td>\n",
       "      <td>1.0207</td>\n",
       "      <td>1.0273</td>\n",
       "      <td>1.3085</td>\n",
       "      <td>90.6066</td>\n",
       "    </tr>\n",
       "    <tr>\n",
       "      <th>eps=0.2</th>\n",
       "      <td>2.0049</td>\n",
       "      <td>1.9987</td>\n",
       "      <td>2.0114</td>\n",
       "      <td>2.0223</td>\n",
       "      <td>2.0082</td>\n",
       "      <td>2.0025</td>\n",
       "      <td>2.0112</td>\n",
       "      <td>2.0107</td>\n",
       "      <td>2.0113</td>\n",
       "      <td>81.9188</td>\n",
       "    </tr>\n",
       "  </tbody>\n",
       "</table>\n",
       "</div>"
      ],
      "text/plain": [
       "           a = 0    a = 1    a = 2   a = 3    a = 4   a = 5    a = 6   a = 7  \\\n",
       "eps=0     0.5560  15.8062  12.9385  9.8993  12.9000  8.6000  10.3000  9.2000   \n",
       "eps=0.05  0.5002   0.5038   0.5137  0.5166   0.5110  0.5031   0.5185  0.5170   \n",
       "eps=0.1   1.0006   1.0112   1.0082  1.0072   0.9954  1.0143   1.0207  1.0273   \n",
       "eps=0.2   2.0049   1.9987   2.0114  2.0223   2.0082  2.0025   2.0112  2.0107   \n",
       "\n",
       "           a = 8    a = 9  \n",
       "eps=0     8.8000  11.0000  \n",
       "eps=0.05  1.6408  94.2753  \n",
       "eps=0.1   1.3085  90.6066  \n",
       "eps=0.2   2.0113  81.9188  "
      ]
     },
     "execution_count": 8,
     "metadata": {},
     "output_type": "execute_result"
    }
   ],
   "source": [
    "# Plot average rewards    \n",
    "plt.figure(figsize=(10,8))\n",
    "plt.plot(eps_0_rewards, label=\"$\\epsilon=$\"+str(eps0))\n",
    "plt.plot(eps_1_rewards, label=\"$\\epsilon=$\"+str(eps1))\n",
    "plt.plot(eps_2_rewards, label=\"$\\epsilon=$\"+str(eps2))\n",
    "plt.plot(eps_3_rewards, label=\"$\\epsilon=$\"+str(eps3))\n",
    "for i in range(k):\n",
    "    plt.hlines(eps_0.mu[i], xmin=0,\n",
    "              xmax=iters, alpha=0.05,\n",
    "              linestyle=\"--\")\n",
    "plt.legend(bbox_to_anchor=(1.2, 0.5))\n",
    "plt.xlabel(\"Iterations\")\n",
    "plt.ylabel(\"Average Reward\")\n",
    "plt.title(\"Average $\\epsilon$-first Rewards after \" + \n",
    "     str(episodes) + \" Episodes\")\n",
    "plt.show()\n",
    "\n",
    "# Counts of actions\n",
    "bins = np.linspace(0, k-1, k)\n",
    "\n",
    "plt.figure(figsize=(10,8))\n",
    "plt.bar(bins, eps_0_selection, \n",
    "        width = 0.25, color='b', \n",
    "        label=\"$\\epsilon=$\"+str(eps0))\n",
    "plt.bar(bins+0.25, eps_1_selection,\n",
    "        width=0.25, color='g', \n",
    "        label=\"$\\epsilon=$\"+str(eps1))\n",
    "plt.bar(bins+0.50, eps_2_selection, \n",
    "        width=0.25, color='r',\n",
    "        label=\"$\\epsilon=$\"+str(eps2))\n",
    "plt.bar(bins+0.75, eps_3_selection, \n",
    "        width=0.25, color='y',\n",
    "        label=\"$\\epsilon=$\"+str(eps3))\n",
    "plt.legend(bbox_to_anchor=(1.2, 0.5))\n",
    "plt.xlim([0,k])\n",
    "plt.title(\"Actions Selected by Each Algorithm\")\n",
    "plt.xlabel(\"Action\")\n",
    "plt.ylabel(\"Number of Actions Taken\")\n",
    "plt.show()\n",
    "\n",
    "opt_per = np.array([eps_0_selection, eps_1_selection,\n",
    "                   eps_2_selection, eps_3_selection]) / iters * 100\n",
    "df = pd.DataFrame(opt_per, index=['eps='+str(eps0), \n",
    "    'eps='+str(eps1), 'eps='+str(eps2), 'eps='+str(eps3)],\n",
    "                 columns=[\"a = \" + str(x) for x in range(0, k)])\n",
    "print(\"Percentage of actions selected:\")\n",
    "df"
   ]
  },
  {
   "cell_type": "markdown",
   "metadata": {},
   "source": [
    "### $\\varepsilon$-greedy strategy"
   ]
  },
  {
   "cell_type": "code",
   "execution_count": 4,
   "metadata": {},
   "outputs": [],
   "source": [
    "from bandits import eps_greedy_bandit"
   ]
  },
  {
   "cell_type": "markdown",
   "metadata": {},
   "source": [
    "The $\\varepsilon$-greedy strategy is one of the most basic option for dealing with multi armed bandit problem and is widely used because of its simplicity. It is based on finding the balance between exploration and exploitation action within the algorithm. At each round the algorithm selects\n",
    "the arm with the highest empirical mean with probability $1 − \\varepsilon$, and selects a random arm with probability $\\varepsilon$. In other word, the probability $p_i$ of choosing the $i$-th arm in the next round $t+1$ is $$p_i(t+1)=\\begin{cases}&1-\\varepsilon + \\frac{\\varepsilon}{k}\\quad\\text{    if }i=\\text{argmax}_{j}\\hat{\\mu_j}(t),\\\\&\\frac{\\varepsilon}{k}\\quad\\text{otherwise},\\end{cases}$$\n",
    "where $k$ is the number of arms and $\\hat{\\mu_j}(t)$ is the empirical mean of $j$-th arm after $t$ turns.\n",
    "\n",
    "Choosing $\\varepsilon=0$ leads to an 0- greedy algorithm, in which is in the first round randomly selected an arm that is being pulled for the rest of the game. "
   ]
  },
  {
   "cell_type": "markdown",
   "metadata": {},
   "source": [
    "Settings for the experiment:"
   ]
  },
  {
   "cell_type": "code",
   "execution_count": 5,
   "metadata": {},
   "outputs": [],
   "source": [
    "# Choose strategies\n",
    "eps0=0\n",
    "eps1=0.05\n",
    "eps2=0.10\n",
    "eps3=0.20 "
   ]
  },
  {
   "cell_type": "code",
   "execution_count": 6,
   "metadata": {},
   "outputs": [],
   "source": [
    "# Initialization\n",
    "eps_0_rewards = np.zeros(iters)\n",
    "eps_1_rewards = np.zeros(iters)\n",
    "eps_2_rewards = np.zeros(iters)\n",
    "eps_3_rewards = np.zeros(iters)\n",
    "eps_0_selection = np.zeros(k)\n",
    "eps_1_selection = np.zeros(k)\n",
    "eps_2_selection = np.zeros(k)\n",
    "eps_3_selection = np.zeros(k)\n",
    "eps_0_rewards_cum = np.zeros(iters)\n",
    "eps_1_rewards_cum = np.zeros(iters)\n",
    "eps_2_rewards_cum = np.zeros(iters)\n",
    "eps_3_rewards_cum = np.zeros(iters)\n",
    "\n",
    "# Run experiments\n",
    "for i in range(episodes):\n",
    "    # Initialize bandits\n",
    "    eps_0 = eps_greedy_bandit(k, eps0, iters, mu=mu_input)\n",
    "    eps_1 = eps_greedy_bandit(k, eps1, iters, eps_0.mu.copy())\n",
    "    eps_2 = eps_greedy_bandit(k, eps2, iters, eps_0.mu.copy())\n",
    "    eps_3 = eps_greedy_bandit(k, eps3, iters, eps_0.mu.copy())\n",
    "    \n",
    "    # Run experiments\n",
    "    eps_0.run()\n",
    "    eps_1.run()\n",
    "    eps_2.run()\n",
    "    eps_3.run()\n",
    "    \n",
    "    # Update long-term averages\n",
    "    eps_0_rewards = eps_0_rewards + (\n",
    "        eps_0.reward - eps_0_rewards) / (i + 1)\n",
    "    eps_1_rewards = eps_1_rewards + (\n",
    "        eps_1.reward - eps_1_rewards) / (i + 1)\n",
    "    eps_2_rewards = eps_2_rewards + (\n",
    "        eps_2.reward - eps_2_rewards) / (i + 1)\n",
    "    eps_3_rewards = eps_3_rewards + (\n",
    "        eps_3.reward - eps_3_rewards) / (i + 1)\n",
    "\n",
    "    # Average actions per episode\n",
    "    eps_0_selection = eps_0_selection + (\n",
    "        eps_0.k_n - eps_0_selection) / (i + 1)\n",
    "    eps_1_selection = eps_1_selection + (\n",
    "        eps_1.k_n - eps_1_selection) / (i + 1)\n",
    "    eps_2_selection = eps_2_selection + (\n",
    "        eps_2.k_n - eps_2_selection) / (i + 1)\n",
    "    eps_3_selection = eps_3_selection + (\n",
    "        eps_3.k_n - eps_3_selection) / (i + 1)"
   ]
  },
  {
   "cell_type": "code",
   "execution_count": 7,
   "metadata": {},
   "outputs": [
    {
     "data": {
      "image/png": "[encoded data removed]",
      "text/plain": [
       "<Figure size 720x576 with 1 Axes>"
      ]
     },
     "metadata": {
      "needs_background": "light"
     },
     "output_type": "display_data"
    },
    {
     "data": {
      "image/png": "[encoded data removed]",
      "text/plain": [
       "<Figure size 720x576 with 1 Axes>"
      ]
     },
     "metadata": {
      "needs_background": "light"
     },
     "output_type": "display_data"
    },
    {
     "name": "stdout",
     "output_type": "stream",
     "text": [
      "Percentage of actions selected:\n"
     ]
    },
    {
     "data": {
      "text/html": [
       "<div>\n",
       "<style scoped>\n",
       "    .dataframe tbody tr th:only-of-type {\n",
       "        vertical-align: middle;\n",
       "    }\n",
       "\n",
       "    .dataframe tbody tr th {\n",
       "        vertical-align: top;\n",
       "    }\n",
       "\n",
       "    .dataframe thead th {\n",
       "        text-align: right;\n",
       "    }\n",
       "</style>\n",
       "<table border=\"1\" class=\"dataframe\">\n",
       "  <thead>\n",
       "    <tr style=\"text-align: right;\">\n",
       "      <th></th>\n",
       "      <th>a = 0</th>\n",
       "      <th>a = 1</th>\n",
       "      <th>a = 2</th>\n",
       "      <th>a = 3</th>\n",
       "      <th>a = 4</th>\n",
       "      <th>a = 5</th>\n",
       "      <th>a = 6</th>\n",
       "      <th>a = 7</th>\n",
       "      <th>a = 8</th>\n",
       "      <th>a = 9</th>\n",
       "    </tr>\n",
       "  </thead>\n",
       "  <tbody>\n",
       "    <tr>\n",
       "      <th>eps=0</th>\n",
       "      <td>0.1212</td>\n",
       "      <td>15.9080</td>\n",
       "      <td>12.8708</td>\n",
       "      <td>9.1000</td>\n",
       "      <td>12.0000</td>\n",
       "      <td>12.5000</td>\n",
       "      <td>8.6000</td>\n",
       "      <td>9.3000</td>\n",
       "      <td>9.2000</td>\n",
       "      <td>10.4000</td>\n",
       "    </tr>\n",
       "    <tr>\n",
       "      <th>eps=0.05</th>\n",
       "      <td>0.9249</td>\n",
       "      <td>2.2436</td>\n",
       "      <td>1.1067</td>\n",
       "      <td>0.9152</td>\n",
       "      <td>1.0726</td>\n",
       "      <td>1.4783</td>\n",
       "      <td>2.0230</td>\n",
       "      <td>3.8800</td>\n",
       "      <td>11.1026</td>\n",
       "      <td>75.2531</td>\n",
       "    </tr>\n",
       "    <tr>\n",
       "      <th>eps=0.1</th>\n",
       "      <td>1.3525</td>\n",
       "      <td>1.6497</td>\n",
       "      <td>1.2938</td>\n",
       "      <td>1.2290</td>\n",
       "      <td>1.2870</td>\n",
       "      <td>1.4304</td>\n",
       "      <td>1.7532</td>\n",
       "      <td>2.6116</td>\n",
       "      <td>6.7305</td>\n",
       "      <td>80.6623</td>\n",
       "    </tr>\n",
       "    <tr>\n",
       "      <th>eps=0.2</th>\n",
       "      <td>2.1778</td>\n",
       "      <td>2.2349</td>\n",
       "      <td>2.0897</td>\n",
       "      <td>2.0928</td>\n",
       "      <td>2.1857</td>\n",
       "      <td>2.2104</td>\n",
       "      <td>2.3545</td>\n",
       "      <td>2.7025</td>\n",
       "      <td>4.2721</td>\n",
       "      <td>77.6796</td>\n",
       "    </tr>\n",
       "  </tbody>\n",
       "</table>\n",
       "</div>"
      ],
      "text/plain": [
       "           a = 0    a = 1    a = 2   a = 3    a = 4    a = 5   a = 6   a = 7  \\\n",
       "eps=0     0.1212  15.9080  12.8708  9.1000  12.0000  12.5000  8.6000  9.3000   \n",
       "eps=0.05  0.9249   2.2436   1.1067  0.9152   1.0726   1.4783  2.0230  3.8800   \n",
       "eps=0.1   1.3525   1.6497   1.2938  1.2290   1.2870   1.4304  1.7532  2.6116   \n",
       "eps=0.2   2.1778   2.2349   2.0897  2.0928   2.1857   2.2104  2.3545  2.7025   \n",
       "\n",
       "            a = 8    a = 9  \n",
       "eps=0      9.2000  10.4000  \n",
       "eps=0.05  11.1026  75.2531  \n",
       "eps=0.1    6.7305  80.6623  \n",
       "eps=0.2    4.2721  77.6796  "
      ]
     },
     "execution_count": 7,
     "metadata": {},
     "output_type": "execute_result"
    }
   ],
   "source": [
    "# Plot average rewards    \n",
    "plt.figure(figsize=(10,8))\n",
    "plt.plot(eps_0_rewards, label=\"$\\epsilon=$\"+str(eps0))\n",
    "plt.plot(eps_1_rewards, label=\"$\\epsilon=$\"+str(eps1))\n",
    "plt.plot(eps_2_rewards, label=\"$\\epsilon=$\"+str(eps2))\n",
    "plt.plot(eps_3_rewards, label=\"$\\epsilon=$\"+str(eps3))\n",
    "for i in range(k):\n",
    "    plt.hlines(eps_0.mu[i], xmin=0,\n",
    "              xmax=iters, alpha=0.05,\n",
    "              linestyle=\"--\")\n",
    "plt.legend(bbox_to_anchor=(1.2, 0.5))\n",
    "plt.xlabel(\"Iterations\")\n",
    "plt.ylabel(\"Average Reward\")\n",
    "plt.title(\"Average $\\epsilon$-greedy Rewards after \" + \n",
    "     str(episodes) + \" Episodes\")\n",
    "plt.show()\n",
    "\n",
    "# Counts of actions\n",
    "bins = np.linspace(0, k-1, k)\n",
    "\n",
    "plt.figure(figsize=(10,8))\n",
    "plt.bar(bins, eps_0_selection, \n",
    "        width = 0.25, color='b', \n",
    "        label=\"$\\epsilon=$\"+str(eps0))\n",
    "plt.bar(bins+0.25, eps_1_selection,\n",
    "        width=0.25, color='g', \n",
    "        label=\"$\\epsilon=$\"+str(eps1))\n",
    "plt.bar(bins+0.50, eps_2_selection, \n",
    "        width=0.25, color='r',\n",
    "        label=\"$\\epsilon=$\"+str(eps2))\n",
    "plt.bar(bins+0.75, eps_3_selection, \n",
    "        width=0.25, color='y',\n",
    "        label=\"$\\epsilon=$\"+str(eps3))\n",
    "plt.legend(bbox_to_anchor=(1.2, 0.5))\n",
    "plt.xlim([0,k])\n",
    "plt.title(\"Actions Selected by Each Algorithm\")\n",
    "plt.xlabel(\"Action\")\n",
    "plt.ylabel(\"Number of Actions Taken\")\n",
    "plt.show()\n",
    "\n",
    "opt_per = np.array([eps_0_selection, eps_1_selection,\n",
    "                   eps_2_selection, eps_3_selection]) / iters * 100\n",
    "df = pd.DataFrame(opt_per, index=['eps='+str(eps0), \n",
    "    'eps='+str(eps1), 'eps='+str(eps2), 'eps='+str(eps3)],\n",
    "                 columns=[\"a = \" + str(x) for x in range(0, k)])\n",
    "print(\"Percentage of actions selected:\")\n",
    "df"
   ]
  },
  {
   "cell_type": "markdown",
   "metadata": {},
   "source": [
    "### $\\varepsilon$-decay strategy"
   ]
  },
  {
   "cell_type": "code",
   "execution_count": 8,
   "metadata": {},
   "outputs": [],
   "source": [
    "from bandits import eps_decay_bandit"
   ]
  },
  {
   "cell_type": "markdown",
   "metadata": {},
   "source": [
    "The $\\varepsilon$-greedy strategies have an obvious weakness in that they continue to include random noise no matter how many examples they see. The $\\varepsilon$-decay, also known as $\\varepsilon$-decreasing strategy, is one of many modifications of $\\varepsilon$-greedy strategies. This strategy reduces the probability of exploration with every step, turning constant $\\varepsilon$ into the function of number of rounds played $\\varepsilon(t)$. We define $$\\varepsilon(t)=\\frac{1}{1+\\beta t},$$ where $\\beta<1$ is used for scaling. "
   ]
  },
  {
   "cell_type": "code",
   "execution_count": 9,
   "metadata": {},
   "outputs": [],
   "source": [
    "# Initialization\n",
    "eps_decay_rewards = np.zeros(iters)\n",
    "eps_greedy_rewards = np.zeros(iters)\n",
    "eps_decay_selection = np.zeros(k)\n",
    "eps_greedy_selection = np.zeros(k)\n",
    "\n",
    "# Run experiments\n",
    "for i in range(episodes):\n",
    "    # Initialize bandits\n",
    "    eps_decay = eps_decay_bandit(k, iters, 1/k, mu=mu_input)\n",
    "    eps_greedy = eps_greedy_bandit(k, 0.1, iters, eps_decay.mu.copy())\n",
    "    \n",
    "    # Run experiments\n",
    "    eps_decay.run()\n",
    "    eps_greedy.run()\n",
    "    \n",
    "    # Update long-term averages\n",
    "    eps_decay_rewards = eps_decay_rewards + (\n",
    "        eps_decay.reward - eps_decay_rewards) / (i + 1)\n",
    "    eps_greedy_rewards = eps_greedy_rewards + (\n",
    "        eps_greedy.reward - eps_greedy_rewards) / (i + 1)\n",
    "\n",
    "    # Average actions per episode\n",
    "    eps_decay_selection = eps_decay_selection + (\n",
    "        eps_decay.k_n - eps_decay_selection) / (i + 1)\n",
    "    eps_greedy_selection = eps_greedy_selection + (\n",
    "        eps_greedy.k_n - eps_greedy_selection) / (i + 1)\n",
    "    "
   ]
  },
  {
   "cell_type": "code",
   "execution_count": 10,
   "metadata": {},
   "outputs": [
    {
     "data": {
      "image/png": "[encoded data removed]",
      "text/plain": [
       "<Figure size 864x576 with 1 Axes>"
      ]
     },
     "metadata": {
      "needs_background": "light"
     },
     "output_type": "display_data"
    },
    {
     "data": {
      "image/png": "[encoded data removed]",
      "text/plain": [
       "<Figure size 720x576 with 1 Axes>"
      ]
     },
     "metadata": {
      "needs_background": "light"
     },
     "output_type": "display_data"
    },
    {
     "name": "stdout",
     "output_type": "stream",
     "text": [
      "Percentage of actions selected:\n"
     ]
    },
    {
     "data": {
      "text/html": [
       "<div>\n",
       "<style scoped>\n",
       "    .dataframe tbody tr th:only-of-type {\n",
       "        vertical-align: middle;\n",
       "    }\n",
       "\n",
       "    .dataframe tbody tr th {\n",
       "        vertical-align: top;\n",
       "    }\n",
       "\n",
       "    .dataframe thead th {\n",
       "        text-align: right;\n",
       "    }\n",
       "</style>\n",
       "<table border=\"1\" class=\"dataframe\">\n",
       "  <thead>\n",
       "    <tr style=\"text-align: right;\">\n",
       "      <th></th>\n",
       "      <th>a = 0</th>\n",
       "      <th>a = 1</th>\n",
       "      <th>a = 2</th>\n",
       "      <th>a = 3</th>\n",
       "      <th>a = 4</th>\n",
       "      <th>a = 5</th>\n",
       "      <th>a = 6</th>\n",
       "      <th>a = 7</th>\n",
       "      <th>a = 8</th>\n",
       "      <th>a = 9</th>\n",
       "    </tr>\n",
       "  </thead>\n",
       "  <tbody>\n",
       "    <tr>\n",
       "      <th>decay</th>\n",
       "      <td>0.4744</td>\n",
       "      <td>0.4806</td>\n",
       "      <td>0.4622</td>\n",
       "      <td>0.4855</td>\n",
       "      <td>0.4934</td>\n",
       "      <td>0.4957</td>\n",
       "      <td>0.5719</td>\n",
       "      <td>0.7849</td>\n",
       "      <td>4.1604</td>\n",
       "      <td>91.5910</td>\n",
       "    </tr>\n",
       "    <tr>\n",
       "      <th>greedy</th>\n",
       "      <td>1.3013</td>\n",
       "      <td>1.7026</td>\n",
       "      <td>1.2937</td>\n",
       "      <td>1.1615</td>\n",
       "      <td>1.2858</td>\n",
       "      <td>1.4700</td>\n",
       "      <td>1.7687</td>\n",
       "      <td>2.4194</td>\n",
       "      <td>6.8381</td>\n",
       "      <td>80.7589</td>\n",
       "    </tr>\n",
       "  </tbody>\n",
       "</table>\n",
       "</div>"
      ],
      "text/plain": [
       "         a = 0   a = 1   a = 2   a = 3   a = 4   a = 5   a = 6   a = 7  \\\n",
       "decay   0.4744  0.4806  0.4622  0.4855  0.4934  0.4957  0.5719  0.7849   \n",
       "greedy  1.3013  1.7026  1.2937  1.1615  1.2858  1.4700  1.7687  2.4194   \n",
       "\n",
       "         a = 8    a = 9  \n",
       "decay   4.1604  91.5910  \n",
       "greedy  6.8381  80.7589  "
      ]
     },
     "execution_count": 10,
     "metadata": {},
     "output_type": "execute_result"
    }
   ],
   "source": [
    "# Average rewards\n",
    "plt.figure(figsize=(12,8))\n",
    "plt.plot(eps_decay_rewards, label=\"$\\epsilon$ decay\")\n",
    "plt.plot(eps_greedy_rewards, label=\"$\\epsilon$ greedy:\"+str(eps_greedy.eps))\n",
    "plt.legend(bbox_to_anchor=(1.2, 0.5))\n",
    "plt.xlabel(\"Iterations\")\n",
    "plt.ylabel(\"Average Reward\")\n",
    "plt.title(\"Average $\\epsilon-decay$ and\" + \n",
    "    \"$\\epsilon-greedy$ Rewards after \" \n",
    "    + str(episodes) + \" Episodes\")\n",
    "plt.show()\n",
    "\n",
    "# Counts of actions\n",
    "bins = np.linspace(0, k-1, k)\n",
    "\n",
    "plt.figure(figsize=(10,8))\n",
    "plt.bar(bins, eps_decay_selection, \n",
    "        width = 0.5, color='b', \n",
    "        label=\"$\\epsilon$ decay\")\n",
    "plt.bar(bins+0.5, eps_greedy_selection,\n",
    "        width=0.5, color='g', \n",
    "        label=\"$\\epsilon$ greedy\"+str(eps_greedy.eps))\n",
    "plt.legend(bbox_to_anchor=(1.2, 0.5))\n",
    "plt.xlim([0,k])\n",
    "plt.title(\"Actions Selected by Each Algorithm\")\n",
    "plt.xlabel(\"Action\")\n",
    "plt.ylabel(\"Number of Actions Taken\")\n",
    "plt.show()\n",
    "\n",
    "opt_per = np.array([eps_decay_selection, eps_greedy_selection]) / iters * 100\n",
    "df = pd.DataFrame(opt_per, index=['decay', 'greedy'],\n",
    "                 columns=[\"a = \" + str(x) for x in range(0, k)])\n",
    "print(\"Percentage of actions selected:\")\n",
    "df"
   ]
  },
  {
   "cell_type": "markdown",
   "metadata": {},
   "source": [
    "### Optimistic Initial Value strategy"
   ]
  },
  {
   "cell_type": "markdown",
   "metadata": {},
   "source": [
    "If we leave the $\\varepsilon$ strategies for a while, the Optimistic Initial value strategy offers almost oposite approach to finding optimal strategy. The difference lies within the absence of adding random noise in order to find best action. Instead, we over estimate the rewards of all the actions and continuously select the maximum. In this case, the algorithm explores early on as it seeks to maximize its returns while additional information allows the values to converge to their true means. This approach does require some additional background knowledge to be included in the set up because we need at least some idea of what the rewards are so that we can over estimate them.\n",
    "\n",
    "Because of this definition, we can this strategy prepare from 0-greedy algorithm."
   ]
  },
  {
   "cell_type": "code",
   "execution_count": 11,
   "metadata": {},
   "outputs": [],
   "source": [
    "# Initialization\n",
    "oiv_rewards = np.zeros(iters)\n",
    "eps_decay_rewards = np.zeros(iters)\n",
    "eps_1_rewards = np.zeros(iters)\n",
    "oiv_selection = np.zeros(k)\n",
    "eps_decay_selection = np.zeros(k)\n",
    "eps_1_selection = np.zeros(k)\n",
    "\n",
    "# Select initial values\n",
    "oiv_init = np.repeat(10., k)\n",
    "\n",
    "# Run experiments\n",
    "for i in range(episodes):\n",
    "    # Initialize bandits\n",
    "    oiv_bandit = eps_greedy_bandit(k, 0, iters, mu=mu_input)\n",
    "    oiv_bandit.k_reward = oiv_init.copy()\n",
    "    oiv_bandit.k_n = np.ones(k)\n",
    "    eps_decay = eps_decay_bandit(k, iters,1/k, oiv_bandit.mu.copy())\n",
    "    eps_1 = eps_greedy_bandit(k, 0.1, iters, oiv_bandit.mu.copy())\n",
    "    \n",
    "    # Run experiments\n",
    "    oiv_bandit.run()\n",
    "    eps_decay.run()\n",
    "    eps_1.run()\n",
    "    \n",
    "    # Update long-term averages\n",
    "    oiv_rewards = oiv_rewards + (\n",
    "        oiv_bandit.reward - oiv_rewards) / (i + 1)\n",
    "    eps_decay_rewards = eps_decay_rewards + (\n",
    "        eps_decay.reward - eps_decay_rewards) / (i + 1)\n",
    "    eps_1_rewards = eps_1_rewards + (\n",
    "        eps_1.reward - eps_1_rewards) / (i + 1)\n",
    "\n",
    "    # Average actions per episode\n",
    "    oiv_selection = oiv_selection + (\n",
    "        oiv_bandit.k_n - oiv_selection) / (i + 1)\n",
    "    eps_decay_selection = eps_decay_selection + (\n",
    "        eps_decay.k_n - eps_decay_selection) / (i + 1)\n",
    "    eps_1_selection = eps_1_selection + (\n",
    "        eps_1.k_n- eps_1_selection) / (i + 1)\n",
    "    \n"
   ]
  },
  {
   "cell_type": "code",
   "execution_count": 12,
   "metadata": {},
   "outputs": [
    {
     "data": {
      "image/png": "[encoded data removed]",
      "text/plain": [
       "<Figure size 720x576 with 1 Axes>"
      ]
     },
     "metadata": {
      "needs_background": "light"
     },
     "output_type": "display_data"
    },
    {
     "data": {
      "image/png": "[encoded data removed]",
      "text/plain": [
       "<Figure size 720x576 with 1 Axes>"
      ]
     },
     "metadata": {
      "needs_background": "light"
     },
     "output_type": "display_data"
    },
    {
     "name": "stdout",
     "output_type": "stream",
     "text": [
      "Percentage of actions selected:\n"
     ]
    },
    {
     "data": {
      "text/html": [
       "<div>\n",
       "<style scoped>\n",
       "    .dataframe tbody tr th:only-of-type {\n",
       "        vertical-align: middle;\n",
       "    }\n",
       "\n",
       "    .dataframe tbody tr th {\n",
       "        vertical-align: top;\n",
       "    }\n",
       "\n",
       "    .dataframe thead th {\n",
       "        text-align: right;\n",
       "    }\n",
       "</style>\n",
       "<table border=\"1\" class=\"dataframe\">\n",
       "  <thead>\n",
       "    <tr style=\"text-align: right;\">\n",
       "      <th></th>\n",
       "      <th>a = 0</th>\n",
       "      <th>a = 1</th>\n",
       "      <th>a = 2</th>\n",
       "      <th>a = 3</th>\n",
       "      <th>a = 4</th>\n",
       "      <th>a = 5</th>\n",
       "      <th>a = 6</th>\n",
       "      <th>a = 7</th>\n",
       "      <th>a = 8</th>\n",
       "      <th>a = 9</th>\n",
       "    </tr>\n",
       "  </thead>\n",
       "  <tbody>\n",
       "    <tr>\n",
       "      <th>OIV</th>\n",
       "      <td>0.2000</td>\n",
       "      <td>0.2000</td>\n",
       "      <td>0.2000</td>\n",
       "      <td>0.2000</td>\n",
       "      <td>0.2001</td>\n",
       "      <td>0.2013</td>\n",
       "      <td>0.2091</td>\n",
       "      <td>0.2422</td>\n",
       "      <td>0.7290</td>\n",
       "      <td>98.6183</td>\n",
       "    </tr>\n",
       "    <tr>\n",
       "      <th>decay</th>\n",
       "      <td>0.4718</td>\n",
       "      <td>0.4588</td>\n",
       "      <td>0.4602</td>\n",
       "      <td>0.4794</td>\n",
       "      <td>0.4772</td>\n",
       "      <td>0.5063</td>\n",
       "      <td>0.5534</td>\n",
       "      <td>0.8887</td>\n",
       "      <td>4.9413</td>\n",
       "      <td>90.7629</td>\n",
       "    </tr>\n",
       "    <tr>\n",
       "      <th>greedy</th>\n",
       "      <td>1.3013</td>\n",
       "      <td>1.7026</td>\n",
       "      <td>1.2937</td>\n",
       "      <td>1.1615</td>\n",
       "      <td>1.2858</td>\n",
       "      <td>1.4700</td>\n",
       "      <td>1.7687</td>\n",
       "      <td>2.4194</td>\n",
       "      <td>6.8381</td>\n",
       "      <td>80.7589</td>\n",
       "    </tr>\n",
       "  </tbody>\n",
       "</table>\n",
       "</div>"
      ],
      "text/plain": [
       "         a = 0   a = 1   a = 2   a = 3   a = 4   a = 5   a = 6   a = 7  \\\n",
       "OIV     0.2000  0.2000  0.2000  0.2000  0.2001  0.2013  0.2091  0.2422   \n",
       "decay   0.4718  0.4588  0.4602  0.4794  0.4772  0.5063  0.5534  0.8887   \n",
       "greedy  1.3013  1.7026  1.2937  1.1615  1.2858  1.4700  1.7687  2.4194   \n",
       "\n",
       "         a = 8    a = 9  \n",
       "OIV     0.7290  98.6183  \n",
       "decay   4.9413  90.7629  \n",
       "greedy  6.8381  80.7589  "
      ]
     },
     "execution_count": 12,
     "metadata": {},
     "output_type": "execute_result"
    }
   ],
   "source": [
    "# Average rewards\n",
    "plt.figure(figsize=(10,8))\n",
    "plt.plot(oiv_rewards, label=\"OIV\")\n",
    "plt.plot(eps_decay_rewards, label=\"$\\epsilon$ decay\")\n",
    "plt.plot(eps_1_rewards, label=\"$\\epsilon$ greedy\")\n",
    "plt.legend(bbox_to_anchor=(1.2, 0.5))\n",
    "plt.xlabel(\"Iterations\")\n",
    "plt.ylabel(\"Average Reward\")\n",
    "plt.title(\"Average Bandit Strategy Rewards after \" + \n",
    "    str(episodes) + \" Episodes\")\n",
    "plt.show()\n",
    "\n",
    "# Counts of actions\n",
    "bins = np.linspace(0, k-1, k)\n",
    "\n",
    "plt.figure(figsize=(10,8))\n",
    "plt.bar(bins, oiv_selection, \n",
    "        width = 0.33, color='b', \n",
    "        label=\"OIV\")\n",
    "plt.bar(bins+0.33, eps_decay_selection,\n",
    "        width=0.33, color='g', \n",
    "        label=\"$\\epsilon$ decay\")\n",
    "plt.bar(bins+0.66, eps_1_selection,\n",
    "        width=0.33, color='r', \n",
    "        label=\"$\\epsilon$ greedy\"+str(eps_greedy.eps))\n",
    "plt.legend(bbox_to_anchor=(1.2, 0.5))\n",
    "plt.xlim([0,k])\n",
    "plt.title(\"Actions Selected by Each Algorithm\")\n",
    "plt.xlabel(\"Action\")\n",
    "plt.ylabel(\"Number of Actions Taken\")\n",
    "plt.show()\n",
    "\n",
    "opt_per = np.array([oiv_selection,eps_decay_selection, eps_greedy_selection]) / iters * 100\n",
    "df = pd.DataFrame(opt_per, index=['OIV','decay', 'greedy'],\n",
    "                 columns=[\"a = \" + str(x) for x in range(0, k)])\n",
    "print(\"Percentage of actions selected:\")\n",
    "df"
   ]
  },
  {
   "cell_type": "code",
   "execution_count": 13,
   "metadata": {},
   "outputs": [
    {
     "data": {
      "text/html": [
       "<div>\n",
       "<style scoped>\n",
       "    .dataframe tbody tr th:only-of-type {\n",
       "        vertical-align: middle;\n",
       "    }\n",
       "\n",
       "    .dataframe tbody tr th {\n",
       "        vertical-align: top;\n",
       "    }\n",
       "\n",
       "    .dataframe thead th {\n",
       "        text-align: right;\n",
       "    }\n",
       "</style>\n",
       "<table border=\"1\" class=\"dataframe\">\n",
       "  <thead>\n",
       "    <tr style=\"text-align: right;\">\n",
       "      <th></th>\n",
       "      <th>number of selections</th>\n",
       "      <th>actual reward</th>\n",
       "      <th>estimated reward</th>\n",
       "    </tr>\n",
       "  </thead>\n",
       "  <tbody>\n",
       "    <tr>\n",
       "      <th>0</th>\n",
       "      <td>1</td>\n",
       "      <td>0.0</td>\n",
       "      <td>4.56</td>\n",
       "    </tr>\n",
       "    <tr>\n",
       "      <th>1</th>\n",
       "      <td>1</td>\n",
       "      <td>1.0</td>\n",
       "      <td>5.12</td>\n",
       "    </tr>\n",
       "    <tr>\n",
       "      <th>2</th>\n",
       "      <td>1</td>\n",
       "      <td>2.0</td>\n",
       "      <td>6.09</td>\n",
       "    </tr>\n",
       "    <tr>\n",
       "      <th>3</th>\n",
       "      <td>1</td>\n",
       "      <td>3.0</td>\n",
       "      <td>7.42</td>\n",
       "    </tr>\n",
       "    <tr>\n",
       "      <th>4</th>\n",
       "      <td>1</td>\n",
       "      <td>4.0</td>\n",
       "      <td>7.62</td>\n",
       "    </tr>\n",
       "    <tr>\n",
       "      <th>5</th>\n",
       "      <td>1</td>\n",
       "      <td>5.0</td>\n",
       "      <td>8.21</td>\n",
       "    </tr>\n",
       "    <tr>\n",
       "      <th>6</th>\n",
       "      <td>1</td>\n",
       "      <td>6.0</td>\n",
       "      <td>8.64</td>\n",
       "    </tr>\n",
       "    <tr>\n",
       "      <th>7</th>\n",
       "      <td>1</td>\n",
       "      <td>7.0</td>\n",
       "      <td>8.04</td>\n",
       "    </tr>\n",
       "    <tr>\n",
       "      <th>8</th>\n",
       "      <td>2</td>\n",
       "      <td>8.0</td>\n",
       "      <td>8.74</td>\n",
       "    </tr>\n",
       "    <tr>\n",
       "      <th>9</th>\n",
       "      <td>990</td>\n",
       "      <td>9.0</td>\n",
       "      <td>9.01</td>\n",
       "    </tr>\n",
       "  </tbody>\n",
       "</table>\n",
       "</div>"
      ],
      "text/plain": [
       "   number of selections  actual reward  estimated reward\n",
       "0                     1            0.0              4.56\n",
       "1                     1            1.0              5.12\n",
       "2                     1            2.0              6.09\n",
       "3                     1            3.0              7.42\n",
       "4                     1            4.0              7.62\n",
       "5                     1            5.0              8.21\n",
       "6                     1            6.0              8.64\n",
       "7                     1            7.0              8.04\n",
       "8                     2            8.0              8.74\n",
       "9                   990            9.0              9.01"
      ]
     },
     "execution_count": 13,
     "metadata": {},
     "output_type": "execute_result"
    }
   ],
   "source": [
    "df = pd.DataFrame({\"number of selections\": oiv_bandit.k_n - 1,\n",
    "                  \"actual reward\": oiv_bandit.mu,\n",
    "                  \"estimated reward\": oiv_bandit.k_reward})\n",
    "df = df.applymap(lambda x: np.round(x, 2))\n",
    "df['number of selections'] = df['number of selections'].astype('int')\n",
    "df"
   ]
  },
  {
   "cell_type": "markdown",
   "metadata": {},
   "source": [
    "### SoftMax strategy"
   ]
  },
  {
   "cell_type": "code",
   "execution_count": 14,
   "metadata": {},
   "outputs": [],
   "source": [
    "from bandits import softmax_bandit"
   ]
  },
  {
   "cell_type": "markdown",
   "metadata": {},
   "source": [
    "The SoftMax strategy takes $\\varepsilon$ strategies to another level and pick each arm with a probability that is proportional to its average reward. Arms with greater empirical means are therefore picked with higher probability. In this project, we use Boltzmann (Gibbs) exploration $$p_i(t+1) =\\frac{e^{\\frac{\\hat{\\mu}_i}{\\tau}}}{\\sum_{j=1}^{k}e^{\\frac{\\hat{\\mu}_j}{\\tau}}},$$\n",
    "where $\\hat{\\mu}_i$ is the estimated mean of the rewards brought by the lever $i$ and $\\tau\\in\\R^+$ is a parameter called the temperature. The choice of $\\tau$’s value is left to the user."
   ]
  },
  {
   "cell_type": "code",
   "execution_count": 15,
   "metadata": {},
   "outputs": [],
   "source": [
    "sfm_1_rewards = np.zeros(iters)\n",
    "sfm_2_rewards = np.zeros(iters)\n",
    "sfm_3_rewards = np.zeros(iters)\n",
    "sfm_4_rewards = np.zeros(iters)\n",
    "eps_1_rewards = np.zeros(iters)\n",
    "\n",
    "# Run experiments\n",
    "for i in range(episodes):\n",
    "    # Initialize bandits\n",
    "    sfm1 = softmax_bandit(k, iters, T=0.05, mu=mu_input)\n",
    "    sfm2 = softmax_bandit(k, iters, T=0.1, mu=sfm1.mu.copy())\n",
    "    sfm3 = softmax_bandit(k, iters, T=0.2, mu=sfm1.mu.copy())\n",
    "    sfm4 = softmax_bandit(k, iters, T=3, mu=sfm1.mu.copy())\n",
    "    eps_1 = eps_greedy_bandit(k, 0.1, iters, mu=sfm1.mu.copy())\n",
    "    \n",
    "    # Run experiments\n",
    "    sfm1.run()\n",
    "    sfm2.run()\n",
    "    sfm3.run()\n",
    "    sfm4.run()\n",
    "    eps_1.run()\n",
    "    \n",
    "    # Update long-term averages\n",
    "    sfm_1_rewards = sfm_1_rewards + (\n",
    "        sfm1.reward - sfm_1_rewards) / (i + 1)\n",
    "    sfm_2_rewards = sfm_2_rewards + (\n",
    "        sfm2.reward - sfm_2_rewards) / (i + 1)\n",
    "    sfm_3_rewards = sfm_3_rewards + (\n",
    "        sfm3.reward - sfm_3_rewards) / (i + 1)\n",
    "    sfm_4_rewards = sfm_4_rewards + (\n",
    "        sfm4.reward - sfm_4_rewards) / (i + 1)\n",
    "    eps_1_rewards = eps_1_rewards + (\n",
    "        eps_1.reward - eps_1_rewards) / (i + 1)"
   ]
  },
  {
   "cell_type": "code",
   "execution_count": 16,
   "metadata": {},
   "outputs": [
    {
     "data": {
      "image/png": "[encoded data removed]",
      "text/plain": [
       "<Figure size 864x576 with 1 Axes>"
      ]
     },
     "metadata": {
      "needs_background": "light"
     },
     "output_type": "display_data"
    }
   ],
   "source": [
    "plt.figure(figsize=(12,8))\n",
    "plt.plot(sfm_1_rewards, label=\"SoftMax: T=\"+str(sfm1.T))\n",
    "plt.plot(sfm_2_rewards, label=\"SoftMax: T=\"+str(sfm2.T))\n",
    "plt.plot(sfm_3_rewards, label=\"SoftMax: T=\"+str(sfm3.T))\n",
    "plt.plot(sfm_4_rewards, label=\"SoftMax: T=\"+str(sfm4.T))\n",
    "plt.plot(eps_1_rewards, label=\"$\\epsilon=0.1$\")\n",
    "plt.legend(bbox_to_anchor=(1.2, 0.5))\n",
    "plt.xlabel(\"Iterations\")\n",
    "plt.ylabel(\"Average Reward\")\n",
    "plt.title(\"Average SoftMax and\" + \n",
    "    \"$\\epsilon-greedy$ Rewards after \" \n",
    "    + str(episodes) + \" Episodes\")\n",
    "plt.show()"
   ]
  },
  {
   "cell_type": "markdown",
   "metadata": {},
   "source": [
    "### SoftMax using FSA"
   ]
  },
  {
   "cell_type": "code",
   "execution_count": 17,
   "metadata": {},
   "outputs": [],
   "source": [
    "from bandits import annealing_softmax_bandit"
   ]
  },
  {
   "cell_type": "markdown",
   "metadata": {},
   "source": [
    "One way to upgrade the SoftMx strategy is the use of Fast Simulated Annealing. In this approach, the constant temperature $\\tau$ is replaced by a function $\\tau(t)$ defined as $$\\tau(t) = \\frac{T_0}{1+(\\frac{t}{n_0})^\\alpha},$$ where $T_0$ is an initial temperature and $\\alpha, n_0$ are cooling parameters."
   ]
  },
  {
   "cell_type": "code",
   "execution_count": 18,
   "metadata": {},
   "outputs": [],
   "source": [
    "sfm_1_rewards = np.zeros(iters)\n",
    "sfm_2_rewards = np.zeros(iters)\n",
    "eps_1_rewards = np.zeros(iters)\n",
    "\n",
    "# Run experiments\n",
    "for i in range(episodes):\n",
    "    # Initialize bandits\n",
    "    sfm1 = annealing_softmax_bandit(k, iters, 1, 0.1,1 ,mu=mu_input)\n",
    "    sfm2 = annealing_softmax_bandit(k, iters, 1, 0.5,1 ,mu=sfm1.mu.copy())\n",
    "    eps_1 = softmax_bandit(k, iters, T=3, mu=sfm1.mu.copy())\n",
    "    \n",
    "    # Run experiments\n",
    "    sfm1.run()\n",
    "    sfm2.run()\n",
    "    eps_1.run()\n",
    "    \n",
    "    # Update long-term averages\n",
    "    sfm_1_rewards = sfm_1_rewards + (\n",
    "        sfm1.reward - sfm_1_rewards) / (i + 1)\n",
    "    sfm_2_rewards = sfm_2_rewards + (\n",
    "        sfm2.reward - sfm_2_rewards) / (i + 1)\n",
    "    eps_1_rewards = eps_1_rewards + (\n",
    "        eps_1.reward - eps_1_rewards) / (i + 1)"
   ]
  },
  {
   "cell_type": "code",
   "execution_count": 19,
   "metadata": {},
   "outputs": [
    {
     "data": {
      "image/png": "[encoded data removed]",
      "text/plain": [
       "<Figure size 864x576 with 1 Axes>"
      ]
     },
     "metadata": {
      "needs_background": "light"
     },
     "output_type": "display_data"
    }
   ],
   "source": [
    "plt.figure(figsize=(12,8))\n",
    "plt.plot(sfm_1_rewards, label=\"SoftMax+SA: a=0.1\")\n",
    "plt.plot(sfm_2_rewards, label=\"SoftMax+SA: a=0.5\")\n",
    "plt.plot(eps_1_rewards, label=\"SoftMax\")\n",
    "plt.legend(bbox_to_anchor=(1.2, 0.5))\n",
    "plt.xlabel(\"Iterations\")\n",
    "plt.ylabel(\"Average Reward\")\n",
    "plt.title(\"Average SoftMax using SA and SoftMax Rewards after\" \n",
    "    + str(episodes) + \" Episodes\")\n",
    "plt.show()"
   ]
  },
  {
   "cell_type": "markdown",
   "metadata": {},
   "source": [
    "# HEUR: K-armed bandit problem: comparison"
   ]
  },
  {
   "cell_type": "markdown",
   "metadata": {},
   "source": [
    "Searching for the best strategy for playing 1000 rounds (normalized over 1000 games)."
   ]
  },
  {
   "cell_type": "code",
   "execution_count": 20,
   "metadata": {},
   "outputs": [],
   "source": [
    "import numpy as np\n",
    "import pandas as pd\n",
    "from bandits import eps_greedy_bandit, eps_decay_bandit, softmax_bandit, annealing_softmax_bandit\n",
    "\n",
    "# Number of arms\n",
    "k = 10\n",
    "# Number of rounds to be played within each game\n",
    "iters = 1000\n",
    "# Number of games to be played\n",
    "episodes = 1000\n",
    "# Mean values of arms ('random', 'sequence', 'sequence2', list, array)\n",
    "mu_input = 'sequence'\n"
   ]
  },
  {
   "cell_type": "markdown",
   "metadata": {},
   "source": [
    "## The best $\\varepsilon$-greedy strategy\n"
   ]
  },
  {
   "cell_type": "code",
   "execution_count": 21,
   "metadata": {},
   "outputs": [
    {
     "name": "stdout",
     "output_type": "stream",
     "text": [
      "Best $epsilon$-greedy strategy: eps=0.09\n"
     ]
    }
   ],
   "source": [
    "# Prepare output disctionary\n",
    "eps_greedy_results = {}\n",
    "\n",
    "for epsilon in np.linspace(0,1,101):\n",
    "    epsilon = round(epsilon,2)\n",
    "    # Initialization\n",
    "    eps_rewards = np.zeros(iters)\n",
    "    \n",
    "    for i in range(episodes):\n",
    "         # Initialize bandits\n",
    "        eps_greedy_b = eps_greedy_bandit(k, epsilon, iters, mu=mu_input)\n",
    "        # Run experiments\n",
    "        eps_greedy_b.run()\n",
    "        # Update long-term averages\n",
    "        eps_rewards = eps_rewards + (eps_greedy_b.reward - eps_rewards) / (i + 1)\n",
    "    \n",
    "    eps_greedy_results['eps='+str(epsilon)] = eps_rewards\n",
    "\n",
    "df_greedy = pd.DataFrame(data = eps_greedy_results, index=range(1000))\n",
    "\n",
    "print('Best $epsilon$-greedy strategy:',df_greedy.loc[df_greedy.shape[0]-1].idxmax())"
   ]
  },
  {
   "cell_type": "code",
   "execution_count": 37,
   "metadata": {},
   "outputs": [
    {
     "data": {
      "text/html": [
       "<div>\n",
       "<style scoped>\n",
       "    .dataframe tbody tr th:only-of-type {\n",
       "        vertical-align: middle;\n",
       "    }\n",
       "\n",
       "    .dataframe tbody tr th {\n",
       "        vertical-align: top;\n",
       "    }\n",
       "\n",
       "    .dataframe thead th {\n",
       "        text-align: right;\n",
       "    }\n",
       "</style>\n",
       "<table border=\"1\" class=\"dataframe\">\n",
       "  <thead>\n",
       "    <tr style=\"text-align: right;\">\n",
       "      <th></th>\n",
       "      <th>eps=0.0</th>\n",
       "      <th>eps=0.01</th>\n",
       "      <th>eps=0.02</th>\n",
       "      <th>eps=0.03</th>\n",
       "      <th>eps=0.04</th>\n",
       "      <th>eps=0.05</th>\n",
       "      <th>eps=0.06</th>\n",
       "      <th>eps=0.07</th>\n",
       "      <th>eps=0.08</th>\n",
       "      <th>eps=0.09</th>\n",
       "      <th>...</th>\n",
       "      <th>eps=0.91</th>\n",
       "      <th>eps=0.92</th>\n",
       "      <th>eps=0.93</th>\n",
       "      <th>eps=0.94</th>\n",
       "      <th>eps=0.95</th>\n",
       "      <th>eps=0.96</th>\n",
       "      <th>eps=0.97</th>\n",
       "      <th>eps=0.98</th>\n",
       "      <th>eps=0.99</th>\n",
       "      <th>eps=1.0</th>\n",
       "    </tr>\n",
       "  </thead>\n",
       "  <tbody>\n",
       "    <tr>\n",
       "      <th>990</th>\n",
       "      <td>4.734342</td>\n",
       "      <td>6.674066</td>\n",
       "      <td>7.644324</td>\n",
       "      <td>7.940661</td>\n",
       "      <td>8.114442</td>\n",
       "      <td>8.223423</td>\n",
       "      <td>8.277044</td>\n",
       "      <td>8.273803</td>\n",
       "      <td>8.289764</td>\n",
       "      <td>8.294242</td>\n",
       "      <td>...</td>\n",
       "      <td>4.902949</td>\n",
       "      <td>4.857077</td>\n",
       "      <td>4.819693</td>\n",
       "      <td>4.767858</td>\n",
       "      <td>4.724965</td>\n",
       "      <td>4.676934</td>\n",
       "      <td>4.639349</td>\n",
       "      <td>4.588602</td>\n",
       "      <td>4.545075</td>\n",
       "      <td>4.499527</td>\n",
       "    </tr>\n",
       "    <tr>\n",
       "      <th>991</th>\n",
       "      <td>4.734391</td>\n",
       "      <td>6.675677</td>\n",
       "      <td>7.645436</td>\n",
       "      <td>7.941389</td>\n",
       "      <td>8.115170</td>\n",
       "      <td>8.223919</td>\n",
       "      <td>8.277450</td>\n",
       "      <td>8.274291</td>\n",
       "      <td>8.290179</td>\n",
       "      <td>8.294490</td>\n",
       "      <td>...</td>\n",
       "      <td>4.903008</td>\n",
       "      <td>4.857170</td>\n",
       "      <td>4.819862</td>\n",
       "      <td>4.768003</td>\n",
       "      <td>4.725039</td>\n",
       "      <td>4.676880</td>\n",
       "      <td>4.639406</td>\n",
       "      <td>4.588747</td>\n",
       "      <td>4.545072</td>\n",
       "      <td>4.499639</td>\n",
       "    </tr>\n",
       "    <tr>\n",
       "      <th>992</th>\n",
       "      <td>4.734424</td>\n",
       "      <td>6.677299</td>\n",
       "      <td>7.646503</td>\n",
       "      <td>7.942283</td>\n",
       "      <td>8.115763</td>\n",
       "      <td>8.224480</td>\n",
       "      <td>8.277960</td>\n",
       "      <td>8.274690</td>\n",
       "      <td>8.290536</td>\n",
       "      <td>8.294702</td>\n",
       "      <td>...</td>\n",
       "      <td>4.903104</td>\n",
       "      <td>4.857261</td>\n",
       "      <td>4.819740</td>\n",
       "      <td>4.768022</td>\n",
       "      <td>4.725076</td>\n",
       "      <td>4.676648</td>\n",
       "      <td>4.639527</td>\n",
       "      <td>4.588792</td>\n",
       "      <td>4.545224</td>\n",
       "      <td>4.499495</td>\n",
       "    </tr>\n",
       "    <tr>\n",
       "      <th>993</th>\n",
       "      <td>4.734496</td>\n",
       "      <td>6.678991</td>\n",
       "      <td>7.647513</td>\n",
       "      <td>7.943096</td>\n",
       "      <td>8.116368</td>\n",
       "      <td>8.224978</td>\n",
       "      <td>8.278354</td>\n",
       "      <td>8.275067</td>\n",
       "      <td>8.290812</td>\n",
       "      <td>8.295054</td>\n",
       "      <td>...</td>\n",
       "      <td>4.903105</td>\n",
       "      <td>4.857319</td>\n",
       "      <td>4.819703</td>\n",
       "      <td>4.768123</td>\n",
       "      <td>4.725132</td>\n",
       "      <td>4.676681</td>\n",
       "      <td>4.639637</td>\n",
       "      <td>4.588684</td>\n",
       "      <td>4.545303</td>\n",
       "      <td>4.499497</td>\n",
       "    </tr>\n",
       "    <tr>\n",
       "      <th>994</th>\n",
       "      <td>4.734495</td>\n",
       "      <td>6.680606</td>\n",
       "      <td>7.648545</td>\n",
       "      <td>7.943939</td>\n",
       "      <td>8.117008</td>\n",
       "      <td>8.225564</td>\n",
       "      <td>8.278826</td>\n",
       "      <td>8.275421</td>\n",
       "      <td>8.291186</td>\n",
       "      <td>8.295378</td>\n",
       "      <td>...</td>\n",
       "      <td>4.903067</td>\n",
       "      <td>4.857344</td>\n",
       "      <td>4.819802</td>\n",
       "      <td>4.768091</td>\n",
       "      <td>4.725195</td>\n",
       "      <td>4.676615</td>\n",
       "      <td>4.639640</td>\n",
       "      <td>4.588695</td>\n",
       "      <td>4.545212</td>\n",
       "      <td>4.499534</td>\n",
       "    </tr>\n",
       "    <tr>\n",
       "      <th>995</th>\n",
       "      <td>4.734550</td>\n",
       "      <td>6.682244</td>\n",
       "      <td>7.649632</td>\n",
       "      <td>7.944747</td>\n",
       "      <td>8.117665</td>\n",
       "      <td>8.226030</td>\n",
       "      <td>8.279161</td>\n",
       "      <td>8.275858</td>\n",
       "      <td>8.291555</td>\n",
       "      <td>8.295630</td>\n",
       "      <td>...</td>\n",
       "      <td>4.902935</td>\n",
       "      <td>4.857377</td>\n",
       "      <td>4.819865</td>\n",
       "      <td>4.768016</td>\n",
       "      <td>4.725241</td>\n",
       "      <td>4.676500</td>\n",
       "      <td>4.639755</td>\n",
       "      <td>4.588753</td>\n",
       "      <td>4.545206</td>\n",
       "      <td>4.499356</td>\n",
       "    </tr>\n",
       "    <tr>\n",
       "      <th>996</th>\n",
       "      <td>4.734557</td>\n",
       "      <td>6.683866</td>\n",
       "      <td>7.650682</td>\n",
       "      <td>7.945600</td>\n",
       "      <td>8.118305</td>\n",
       "      <td>8.226610</td>\n",
       "      <td>8.279600</td>\n",
       "      <td>8.276342</td>\n",
       "      <td>8.291911</td>\n",
       "      <td>8.295938</td>\n",
       "      <td>...</td>\n",
       "      <td>4.902998</td>\n",
       "      <td>4.857599</td>\n",
       "      <td>4.819814</td>\n",
       "      <td>4.767986</td>\n",
       "      <td>4.725087</td>\n",
       "      <td>4.676501</td>\n",
       "      <td>4.639818</td>\n",
       "      <td>4.588932</td>\n",
       "      <td>4.545091</td>\n",
       "      <td>4.499562</td>\n",
       "    </tr>\n",
       "    <tr>\n",
       "      <th>997</th>\n",
       "      <td>4.734556</td>\n",
       "      <td>6.685500</td>\n",
       "      <td>7.651701</td>\n",
       "      <td>7.946442</td>\n",
       "      <td>8.118981</td>\n",
       "      <td>8.227090</td>\n",
       "      <td>8.280075</td>\n",
       "      <td>8.276805</td>\n",
       "      <td>8.292184</td>\n",
       "      <td>8.296262</td>\n",
       "      <td>...</td>\n",
       "      <td>4.902994</td>\n",
       "      <td>4.857694</td>\n",
       "      <td>4.819725</td>\n",
       "      <td>4.767785</td>\n",
       "      <td>4.725127</td>\n",
       "      <td>4.676390</td>\n",
       "      <td>4.639805</td>\n",
       "      <td>4.588850</td>\n",
       "      <td>4.545129</td>\n",
       "      <td>4.499397</td>\n",
       "    </tr>\n",
       "    <tr>\n",
       "      <th>998</th>\n",
       "      <td>4.734587</td>\n",
       "      <td>6.687162</td>\n",
       "      <td>7.652696</td>\n",
       "      <td>7.947239</td>\n",
       "      <td>8.119659</td>\n",
       "      <td>8.227586</td>\n",
       "      <td>8.280481</td>\n",
       "      <td>8.277202</td>\n",
       "      <td>8.292499</td>\n",
       "      <td>8.296590</td>\n",
       "      <td>...</td>\n",
       "      <td>4.902790</td>\n",
       "      <td>4.857801</td>\n",
       "      <td>4.819644</td>\n",
       "      <td>4.767903</td>\n",
       "      <td>4.725245</td>\n",
       "      <td>4.676494</td>\n",
       "      <td>4.639790</td>\n",
       "      <td>4.588811</td>\n",
       "      <td>4.545178</td>\n",
       "      <td>4.499424</td>\n",
       "    </tr>\n",
       "    <tr>\n",
       "      <th>999</th>\n",
       "      <td>4.734602</td>\n",
       "      <td>6.688777</td>\n",
       "      <td>7.653685</td>\n",
       "      <td>7.948022</td>\n",
       "      <td>8.120303</td>\n",
       "      <td>8.228167</td>\n",
       "      <td>8.280878</td>\n",
       "      <td>8.277679</td>\n",
       "      <td>8.292855</td>\n",
       "      <td>8.296878</td>\n",
       "      <td>...</td>\n",
       "      <td>4.903020</td>\n",
       "      <td>4.857838</td>\n",
       "      <td>4.819742</td>\n",
       "      <td>4.768065</td>\n",
       "      <td>4.725227</td>\n",
       "      <td>4.676445</td>\n",
       "      <td>4.639720</td>\n",
       "      <td>4.588845</td>\n",
       "      <td>4.545231</td>\n",
       "      <td>4.499491</td>\n",
       "    </tr>\n",
       "  </tbody>\n",
       "</table>\n",
       "<p>10 rows × 101 columns</p>\n",
       "</div>"
      ],
      "text/plain": [
       "      eps=0.0  eps=0.01  eps=0.02  eps=0.03  eps=0.04  eps=0.05  eps=0.06  \\\n",
       "990  4.734342  6.674066  7.644324  7.940661  8.114442  8.223423  8.277044   \n",
       "991  4.734391  6.675677  7.645436  7.941389  8.115170  8.223919  8.277450   \n",
       "992  4.734424  6.677299  7.646503  7.942283  8.115763  8.224480  8.277960   \n",
       "993  4.734496  6.678991  7.647513  7.943096  8.116368  8.224978  8.278354   \n",
       "994  4.734495  6.680606  7.648545  7.943939  8.117008  8.225564  8.278826   \n",
       "995  4.734550  6.682244  7.649632  7.944747  8.117665  8.226030  8.279161   \n",
       "996  4.734557  6.683866  7.650682  7.945600  8.118305  8.226610  8.279600   \n",
       "997  4.734556  6.685500  7.651701  7.946442  8.118981  8.227090  8.280075   \n",
       "998  4.734587  6.687162  7.652696  7.947239  8.119659  8.227586  8.280481   \n",
       "999  4.734602  6.688777  7.653685  7.948022  8.120303  8.228167  8.280878   \n",
       "\n",
       "     eps=0.07  eps=0.08  eps=0.09  ...  eps=0.91  eps=0.92  eps=0.93  \\\n",
       "990  8.273803  8.289764  8.294242  ...  4.902949  4.857077  4.819693   \n",
       "991  8.274291  8.290179  8.294490  ...  4.903008  4.857170  4.819862   \n",
       "992  8.274690  8.290536  8.294702  ...  4.903104  4.857261  4.819740   \n",
       "993  8.275067  8.290812  8.295054  ...  4.903105  4.857319  4.819703   \n",
       "994  8.275421  8.291186  8.295378  ...  4.903067  4.857344  4.819802   \n",
       "995  8.275858  8.291555  8.295630  ...  4.902935  4.857377  4.819865   \n",
       "996  8.276342  8.291911  8.295938  ...  4.902998  4.857599  4.819814   \n",
       "997  8.276805  8.292184  8.296262  ...  4.902994  4.857694  4.819725   \n",
       "998  8.277202  8.292499  8.296590  ...  4.902790  4.857801  4.819644   \n",
       "999  8.277679  8.292855  8.296878  ...  4.903020  4.857838  4.819742   \n",
       "\n",
       "     eps=0.94  eps=0.95  eps=0.96  eps=0.97  eps=0.98  eps=0.99   eps=1.0  \n",
       "990  4.767858  4.724965  4.676934  4.639349  4.588602  4.545075  4.499527  \n",
       "991  4.768003  4.725039  4.676880  4.639406  4.588747  4.545072  4.499639  \n",
       "992  4.768022  4.725076  4.676648  4.639527  4.588792  4.545224  4.499495  \n",
       "993  4.768123  4.725132  4.676681  4.639637  4.588684  4.545303  4.499497  \n",
       "994  4.768091  4.725195  4.676615  4.639640  4.588695  4.545212  4.499534  \n",
       "995  4.768016  4.725241  4.676500  4.639755  4.588753  4.545206  4.499356  \n",
       "996  4.767986  4.725087  4.676501  4.639818  4.588932  4.545091  4.499562  \n",
       "997  4.767785  4.725127  4.676390  4.639805  4.588850  4.545129  4.499397  \n",
       "998  4.767903  4.725245  4.676494  4.639790  4.588811  4.545178  4.499424  \n",
       "999  4.768065  4.725227  4.676445  4.639720  4.588845  4.545231  4.499491  \n",
       "\n",
       "[10 rows x 101 columns]"
      ]
     },
     "execution_count": 37,
     "metadata": {},
     "output_type": "execute_result"
    }
   ],
   "source": [
    "df_greedy.tail(10)"
   ]
  },
  {
   "cell_type": "markdown",
   "metadata": {},
   "source": [
    "## The best $\\varepsilon$-decay strategy"
   ]
  },
  {
   "cell_type": "code",
   "execution_count": 22,
   "metadata": {},
   "outputs": [
    {
     "name": "stdout",
     "output_type": "stream",
     "text": [
      "Best $\\epsilon$-decay strategy: beta=0.1\n"
     ]
    }
   ],
   "source": [
    "eps_decay_results = {}\n",
    "\n",
    "for beta in np.linspace(0,1,11):\n",
    "    # Initialization\n",
    "    bandit_rewards = np.zeros(iters)\n",
    "    beta = round(beta,2)\n",
    "    for i in range(episodes):\n",
    "        bandit = eps_decay_bandit(k, iters, beta, mu=mu_input)\n",
    "        # Run experiments\n",
    "        bandit.run()\n",
    "        # Update long-term averages\n",
    "        bandit_rewards = bandit_rewards + (bandit.reward - bandit_rewards) / (i + 1)\n",
    "\n",
    "    eps_decay_results['beta='+str(beta)] = bandit_rewards \n",
    "\n",
    "df_decay = pd.DataFrame(data = eps_decay_results, index=range(1000))\n",
    "\n",
    "print('Best $\\epsilon$-decay strategy:',df_decay.loc[df_decay.shape[0]-1].idxmax())"
   ]
  },
  {
   "cell_type": "markdown",
   "metadata": {},
   "source": [
    "## The best Optimistic Value Strategy\n",
    "\n",
    "The only thing we can change here are the initial estimates."
   ]
  },
  {
   "cell_type": "code",
   "execution_count": 23,
   "metadata": {},
   "outputs": [
    {
     "name": "stdout",
     "output_type": "stream",
     "text": [
      "Best strategy: estimate=6\n"
     ]
    }
   ],
   "source": [
    "oiv_results = {}\n",
    "\n",
    "for est in range(0,15):\n",
    "    # Initialization\n",
    "    bandit_rewards = np.zeros(iters)\n",
    "    # Select initial values\n",
    "    oiv_init = np.repeat(est, k)\n",
    "    \n",
    "    for i in range(episodes):\n",
    "        bandit = eps_greedy_bandit(k, 0, iters, mu=mu_input)\n",
    "        bandit.k_reward = oiv_init.copy()\n",
    "        bandit.k_n = np.ones(k)\n",
    "        # Run experiments\n",
    "        bandit.run()\n",
    "        # Update long-term averages\n",
    "        bandit_rewards = bandit_rewards + (bandit.reward - bandit_rewards) / (i + 1)\n",
    "\n",
    "    oiv_results['estimate='+str(est)] = bandit_rewards \n",
    "\n",
    "df_oiv = pd.DataFrame(data = oiv_results, index=range(1000))\n",
    "\n",
    "print('Best strategy:',df_oiv.loc[df_oiv.shape[0]-1].idxmax())"
   ]
  },
  {
   "cell_type": "markdown",
   "metadata": {},
   "source": [
    "## The best SoftMax strategy"
   ]
  },
  {
   "cell_type": "code",
   "execution_count": 24,
   "metadata": {},
   "outputs": [
    {
     "name": "stdout",
     "output_type": "stream",
     "text": [
      "Best SoftMax strategy: T=1.2\n"
     ]
    }
   ],
   "source": [
    "softmax_results = {}\n",
    "\n",
    "for temp in np.linspace(0.05,5,100):\n",
    "    # Initialization\n",
    "    bandit_rewards = np.zeros(iters)\n",
    "    temp = round(temp,2)\n",
    "\n",
    "    for i in range(episodes):\n",
    "        bandit = softmax_bandit(k, iters, T=temp, mu=mu_input)\n",
    "        # Run experiments\n",
    "        bandit.run()\n",
    "        # Update long-term averages\n",
    "        bandit_rewards = bandit_rewards + (bandit.reward - bandit_rewards) / (i + 1)\n",
    "\n",
    "    softmax_results['T='+str(temp)] = bandit_rewards \n",
    "\n",
    "df_softmax = pd.DataFrame(data = softmax_results, index=range(1000))\n",
    "\n",
    "print('Best SoftMax strategy:',df_softmax.loc[df_softmax.shape[0]-1].idxmax())"
   ]
  },
  {
   "cell_type": "markdown",
   "metadata": {},
   "source": [
    "## The best SoftMax strategy using Simulated Annealing"
   ]
  },
  {
   "cell_type": "code",
   "execution_count": 34,
   "metadata": {},
   "outputs": [
    {
     "name": "stdout",
     "output_type": "stream",
     "text": [
      "Best SoftMax + SA strategy: alfa=0.05\n"
     ]
    }
   ],
   "source": [
    "SA_softmax_results = {}\n",
    "\n",
    "for alfa in np.linspace(0.05,0.5,10):\n",
    "    # Initialization\n",
    "    bandit_rewards = np.zeros(iters)\n",
    "\n",
    "    for i in range(episodes):\n",
    "        bandit = annealing_softmax_bandit(k, iters, 1.2, alfa, 1, mu=mu_input)\n",
    "        # Run experiments\n",
    "        bandit.run()\n",
    "        # Update long-term averages\n",
    "        bandit_rewards = bandit_rewards + (bandit.reward - bandit_rewards) / (i + 1)\n",
    "    SA_softmax_results['alfa='+str(alfa)] = bandit_rewards \n",
    "\n",
    "df_SA = pd.DataFrame(data = SA_softmax_results, index=range(1000))\n",
    "\n",
    "print('Best SoftMax + SA strategy:',df_SA.loc[df_SA.shape[0]-1].idxmax())"
   ]
  },
  {
   "cell_type": "code",
   "execution_count": 35,
   "metadata": {},
   "outputs": [
    {
     "data": {
      "image/png": "[encoded data removed]",
      "text/plain": [
       "<Figure size 720x576 with 1 Axes>"
      ]
     },
     "metadata": {
      "needs_background": "light"
     },
     "output_type": "display_data"
    }
   ],
   "source": [
    "plt.figure(figsize=(10,8))\n",
    "plt.plot(df_greedy[df_greedy.loc[df_greedy.shape[0]-1].idxmax()], label=\"Greedy: \"+df_greedy.loc[df_greedy.shape[0]-1].idxmax())\n",
    "plt.plot(df_decay[df_decay.loc[df_decay.shape[0]-1].idxmax()], label=\"Decay: \"+df_decay.loc[df_decay.shape[0]-1].idxmax())\n",
    "plt.plot(df_oiv[df_oiv.loc[df_oiv.shape[0]-1].idxmax()], label=\"OIV: \"+df_oiv.loc[df_oiv.shape[0]-1].idxmax())\n",
    "plt.plot(df_softmax[df_softmax.loc[df_softmax.shape[0]-1].idxmax()], label=\"SoftMax: \"+df_softmax.loc[df_oiv.shape[0]-1].idxmax())\n",
    "plt.plot(df_SA[df_SA.loc[df_SA.shape[0]-1].idxmax()], label=\"SA: \"+df_SA.loc[df_SA.shape[0]-1].idxmax())\n",
    "plt.legend(bbox_to_anchor=(1.2, 0.5))\n",
    "plt.xlabel(\"Iterations\")\n",
    "plt.ylabel(\"Average Reward\")\n",
    "plt.title(\"Average Rewards after \" \n",
    "    + str(episodes) + \" Episodes for each strategy\")\n",
    "plt.show()"
   ]
  }
 ],
 "metadata": {
  "interpreter": {
   "hash": "b1c5efb9fc013e774952a36f0109a124deeeb4503818b471c47b5ae9a1dbb255"
  },
  "kernelspec": {
   "display_name": "Python 3.9.6 64-bit",
   "language": "python",
   "name": "python3"
  },
  "language_info": {
   "codemirror_mode": {
    "name": "ipython",
    "version": 3
   },
   "file_extension": ".py",
   "mimetype": "text/x-python",
   "name": "python",
   "nbconvert_exporter": "python",
   "pygments_lexer": "ipython3",
   "version": "3.9.6"
  },
  "orig_nbformat": 4
 },
 "nbformat": 4,
 "nbformat_minor": 2
}
